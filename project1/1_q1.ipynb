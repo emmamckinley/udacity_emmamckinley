{
 "cells": [
  {
   "cell_type": "markdown",
   "id": "627d6789",
   "metadata": {},
   "source": [
    "# Q1: Is there seasonality in price?\n",
    "\n",
    "This is based on **calendar.csv** which includes listing id and the price and availability for a particular day throughout 2016 and some of 2017.\n",
    "\n",
    "\n",
    "Future work:\n",
    "* Would be nice if we had more than 1 year to see seasonality \n",
    "* This is the price advertised - not the price booked. \n",
    "* On availability chart - remove inactive/never available\n",
    "* Can see a number of really low prices and a few outpliers above 1000 - are these DQ issues? Consider removing these in future analysis."
   ]
  },
  {
   "cell_type": "markdown",
   "id": "899f2611",
   "metadata": {},
   "source": [
    "## Set-up and read in data"
   ]
  },
  {
   "cell_type": "code",
   "execution_count": 1,
   "id": "4d7a21fb",
   "metadata": {},
   "outputs": [
    {
     "name": "stdout",
     "output_type": "stream",
     "text": [
      "Collecting colorcet\n",
      "  Downloading colorcet-3.0.0-py2.py3-none-any.whl (1.6 MB)\n",
      "     |████████████████████████████████| 1.6 MB 21.5 MB/s            \n",
      "\u001b[?25hCollecting param>=1.7.0\n",
      "  Downloading param-1.12.0-py2.py3-none-any.whl (85 kB)\n",
      "     |████████████████████████████████| 85 kB 1.4 MB/s             \n",
      "\u001b[?25hCollecting pyct>=0.4.4\n",
      "  Downloading pyct-0.4.8-py2.py3-none-any.whl (15 kB)\n",
      "Installing collected packages: param, pyct, colorcet\n",
      "Successfully installed colorcet-3.0.0 param-1.12.0 pyct-0.4.8\n"
     ]
    },
    {
     "name": "stderr",
     "output_type": "stream",
     "text": [
      "Matplotlib is building the font cache; this may take a moment.\n"
     ]
    },
    {
     "name": "stdout",
     "output_type": "stream",
     "text": [
      "Current version of Python is  3.6.13 | packaged by conda-forge | (default, Feb 19 2021, 05:36:01) \n",
      "[GCC 9.3.0]\n",
      "Current version of numpy is  1.19.5\n",
      "Current version of Pandas is  1.1.5\n",
      "Current version of colorcet is  3.0.0\n",
      "Current version of matplotlib is  3.3.4\n",
      "Current version of seaborn is  0.11.1\n"
     ]
    }
   ],
   "source": [
    "## For nicer colours\n",
    "!pip install colorcet\n",
    "\n",
    "import sys\n",
    "import numpy as np\n",
    "import pandas as pd\n",
    "import matplotlib\n",
    "import matplotlib.pyplot as plt\n",
    "import seaborn as sns\n",
    "import colorcet as cc\n",
    "from pandas.tseries.offsets import MonthEnd\n",
    "%matplotlib inline\n",
    "\n",
    "pd.set_option('display.max_rows', 500)\n",
    "pd.set_option('display.max_columns', 500)\n",
    "\n",
    "# read in data\n",
    "df_calendar = pd.read_csv('./calendar.csv')\n",
    "\n",
    "# Set-up colours\n",
    "palette = sns.color_palette(cc.glasbey, n_colors=17)\n",
    "# sns.palplot(palette)\n",
    "sns.set_palette(palette)\n",
    "\n",
    "# print versions\n",
    "print(\"Current version of Python is \", sys.version)\n",
    "print(\"Current version of numpy is \",np.__version__)\n",
    "print(\"Current version of Pandas is \",pd.__version__)\n",
    "print(\"Current version of colorcet is \",cc.__version__)\n",
    "print(\"Current version of matplotlib is \",matplotlib.__version__)\n",
    "print(\"Current version of seaborn is \",sns.__version__)"
   ]
  },
  {
   "cell_type": "markdown",
   "id": "6b4b69b1",
   "metadata": {},
   "source": [
    "## Define user functions"
   ]
  },
  {
   "cell_type": "code",
   "execution_count": 2,
   "id": "73a5e55f",
   "metadata": {},
   "outputs": [],
   "source": [
    "# Turn field into binary field\n",
    "def binary(field, val):\n",
    "    \"\"\"Turns a field into a binary columnn. If field = val then 1 else 0. \n",
    "        Input: \n",
    "            Field = Name of column\n",
    "            val   = Value that should be classed as 1.\n",
    "        Output: new binary value\n",
    "     \"\"\"\n",
    "    if field == val:\n",
    "        out = 1\n",
    "    else:\n",
    "        out = 0\n",
    "    return out"
   ]
  },
  {
   "cell_type": "markdown",
   "id": "d8854c87",
   "metadata": {},
   "source": [
    "## Look at the data\n",
    "The cells below tell us that:\n",
    "* df_calendar \n",
    "    * 1,393,570  x 4. \n",
    "    * There are 3,818 values of listing_id.\n",
    "    * Dates should be datetime and price should be float."
   ]
  },
  {
   "cell_type": "code",
   "execution_count": 3,
   "id": "d2062595",
   "metadata": {},
   "outputs": [],
   "source": [
    "# Look at first 5 rows and info and some value counts.\n",
    "\n",
    "# df_calendar.head() \n",
    "# df_calendar.info()\n",
    "# df_calendar[\"listing_id\"].value_counts()"
   ]
  },
  {
   "cell_type": "markdown",
   "id": "8c628650",
   "metadata": {},
   "source": [
    "## Convert columns to correct format\n",
    "Through above and future analysis I have discovered a few things that need changed and brought it all back here so any additional columns are created in the same place"
   ]
  },
  {
   "cell_type": "code",
   "execution_count": 4,
   "id": "7d39e954",
   "metadata": {},
   "outputs": [],
   "source": [
    "# Look if all the prices are in dollars before converting\n",
    "\n",
    "# df_calendar['test'] = df_calendar['price'].astype(str).str[0]\n",
    "# df_calendar['test'].value_counts()\n"
   ]
  },
  {
   "cell_type": "code",
   "execution_count": 5,
   "id": "cd99eee3",
   "metadata": {},
   "outputs": [],
   "source": [
    "# Price only populated when the property is available - therefore don't need additional flag so commenting out lines\n",
    "\n",
    "# df_calendar['price_missing'] =np.where(df_calendar['price'].isnull() , True, False)\n",
    "# df_calendar['price_missing'].value_counts()\n",
    "# pd.crosstab(df_calendar['price_missing'], df_calendar['available_01'])"
   ]
  },
  {
   "cell_type": "code",
   "execution_count": 6,
   "id": "a880521c",
   "metadata": {},
   "outputs": [
    {
     "data": {
      "text/html": [
       "<div>\n",
       "<style scoped>\n",
       "    .dataframe tbody tr th:only-of-type {\n",
       "        vertical-align: middle;\n",
       "    }\n",
       "\n",
       "    .dataframe tbody tr th {\n",
       "        vertical-align: top;\n",
       "    }\n",
       "\n",
       "    .dataframe thead th {\n",
       "        text-align: right;\n",
       "    }\n",
       "</style>\n",
       "<table border=\"1\" class=\"dataframe\">\n",
       "  <thead>\n",
       "    <tr style=\"text-align: right;\">\n",
       "      <th></th>\n",
       "      <th>listing_id</th>\n",
       "      <th>date</th>\n",
       "      <th>available</th>\n",
       "      <th>price</th>\n",
       "      <th>date_dt</th>\n",
       "      <th>monthname</th>\n",
       "      <th>month</th>\n",
       "      <th>year</th>\n",
       "      <th>monthend</th>\n",
       "      <th>available_01</th>\n",
       "      <th>price_new</th>\n",
       "    </tr>\n",
       "  </thead>\n",
       "  <tbody>\n",
       "    <tr>\n",
       "      <th>0</th>\n",
       "      <td>241032</td>\n",
       "      <td>2016-01-04</td>\n",
       "      <td>t</td>\n",
       "      <td>$85.00</td>\n",
       "      <td>2016-01-04</td>\n",
       "      <td>January</td>\n",
       "      <td>1</td>\n",
       "      <td>2016</td>\n",
       "      <td>2016-01-31</td>\n",
       "      <td>1</td>\n",
       "      <td>85.0</td>\n",
       "    </tr>\n",
       "    <tr>\n",
       "      <th>1</th>\n",
       "      <td>241032</td>\n",
       "      <td>2016-01-05</td>\n",
       "      <td>t</td>\n",
       "      <td>$85.00</td>\n",
       "      <td>2016-01-05</td>\n",
       "      <td>January</td>\n",
       "      <td>1</td>\n",
       "      <td>2016</td>\n",
       "      <td>2016-01-31</td>\n",
       "      <td>1</td>\n",
       "      <td>85.0</td>\n",
       "    </tr>\n",
       "    <tr>\n",
       "      <th>2</th>\n",
       "      <td>241032</td>\n",
       "      <td>2016-01-06</td>\n",
       "      <td>f</td>\n",
       "      <td>NaN</td>\n",
       "      <td>2016-01-06</td>\n",
       "      <td>January</td>\n",
       "      <td>1</td>\n",
       "      <td>2016</td>\n",
       "      <td>2016-01-31</td>\n",
       "      <td>0</td>\n",
       "      <td>NaN</td>\n",
       "    </tr>\n",
       "    <tr>\n",
       "      <th>3</th>\n",
       "      <td>241032</td>\n",
       "      <td>2016-01-07</td>\n",
       "      <td>f</td>\n",
       "      <td>NaN</td>\n",
       "      <td>2016-01-07</td>\n",
       "      <td>January</td>\n",
       "      <td>1</td>\n",
       "      <td>2016</td>\n",
       "      <td>2016-01-31</td>\n",
       "      <td>0</td>\n",
       "      <td>NaN</td>\n",
       "    </tr>\n",
       "    <tr>\n",
       "      <th>4</th>\n",
       "      <td>241032</td>\n",
       "      <td>2016-01-08</td>\n",
       "      <td>f</td>\n",
       "      <td>NaN</td>\n",
       "      <td>2016-01-08</td>\n",
       "      <td>January</td>\n",
       "      <td>1</td>\n",
       "      <td>2016</td>\n",
       "      <td>2016-01-31</td>\n",
       "      <td>0</td>\n",
       "      <td>NaN</td>\n",
       "    </tr>\n",
       "  </tbody>\n",
       "</table>\n",
       "</div>"
      ],
      "text/plain": [
       "   listing_id        date available   price    date_dt monthname  month  year  \\\n",
       "0      241032  2016-01-04         t  $85.00 2016-01-04   January      1  2016   \n",
       "1      241032  2016-01-05         t  $85.00 2016-01-05   January      1  2016   \n",
       "2      241032  2016-01-06         f     NaN 2016-01-06   January      1  2016   \n",
       "3      241032  2016-01-07         f     NaN 2016-01-07   January      1  2016   \n",
       "4      241032  2016-01-08         f     NaN 2016-01-08   January      1  2016   \n",
       "\n",
       "    monthend  available_01  price_new  \n",
       "0 2016-01-31             1       85.0  \n",
       "1 2016-01-31             1       85.0  \n",
       "2 2016-01-31             0        NaN  \n",
       "3 2016-01-31             0        NaN  \n",
       "4 2016-01-31             0        NaN  "
      ]
     },
     "execution_count": 6,
     "metadata": {},
     "output_type": "execute_result"
    }
   ],
   "source": [
    "# Change date to date time.\n",
    "df_calendar[\"date_dt\"]= pd.to_datetime(df_calendar[\"date\"])\n",
    "# df_calendar.info() - check the conversion didn't change anything to NULL\n",
    "df_calendar['monthname'] = df_calendar['date_dt'].dt.month_name()\n",
    "df_calendar['month'] = df_calendar['date_dt'].dt.month\n",
    "df_calendar['year'] = df_calendar['date_dt'].dt.year\n",
    "df_calendar['monthend'] = pd.to_datetime(df_calendar['date_dt']) + MonthEnd(1)\n",
    "\n",
    "# Change fields to binary column\n",
    "df_calendar['available_01'] = df_calendar.apply(lambda x: binary(x['available'], 't' ), axis = 1)\n",
    "\n",
    "# Convert to a number\n",
    "df_calendar['price_new'] = df_calendar['price'].replace('[$,]', '', regex=True).astype(float)\n",
    "\n",
    "#Drop original columns\n",
    "df_calendar.drop(['date', 'available', 'price'], axis = 1)\n",
    "\n",
    "# Remove Jan 2017 as data not complete\n",
    "only_2016 = df_calendar[df_calendar['monthend'] != '2017-01-31']\n",
    "\n",
    "only_2016.head()"
   ]
  },
  {
   "cell_type": "markdown",
   "id": "21f14e45",
   "metadata": {},
   "source": [
    "## Visual analysis"
   ]
  },
  {
   "cell_type": "code",
   "execution_count": 7,
   "id": "67f34862",
   "metadata": {},
   "outputs": [
    {
     "data": {
      "text/plain": [
       "<matplotlib.collections.PathCollection at 0x7fa4185229e8>"
      ]
     },
     "execution_count": 7,
     "metadata": {},
     "output_type": "execute_result"
    },
    {
     "data": {
      "image/png": "[encoded data removed]",
      "text/plain": [
       "<Figure size 432x288 with 1 Axes>"
      ]
     },
     "metadata": {
      "needs_background": "light"
     },
     "output_type": "display_data"
    }
   ],
   "source": [
    "plt.scatter(df_calendar['date_dt'] , df_calendar['price_new'] )\n",
    "# Obviously not a useful plot but I can quickly see ranges and outliers in the raw values"
   ]
  },
  {
   "cell_type": "code",
   "execution_count": 8,
   "id": "ef816f19",
   "metadata": {},
   "outputs": [
    {
     "data": {
      "text/plain": [
       "<AxesSubplot:>"
      ]
     },
     "execution_count": 8,
     "metadata": {},
     "output_type": "execute_result"
    },
    {
     "data": {
      "image/png": "[encoded data removed]",
      "text/plain": [
       "<Figure size 432x288 with 1 Axes>"
      ]
     },
     "metadata": {
      "needs_background": "light"
     },
     "output_type": "display_data"
    }
   ],
   "source": [
    "# histogram of prices\n",
    "df_calendar['price_new'].hist(bins=100)"
   ]
  },
  {
   "cell_type": "markdown",
   "id": "fcf05760",
   "metadata": {},
   "source": [
    "### Plot the average and room availabilty price per month"
   ]
  },
  {
   "cell_type": "code",
   "execution_count": 9,
   "id": "570d8933",
   "metadata": {},
   "outputs": [
    {
     "data": {
      "text/html": [
       "<div>\n",
       "<style scoped>\n",
       "    .dataframe tbody tr th:only-of-type {\n",
       "        vertical-align: middle;\n",
       "    }\n",
       "\n",
       "    .dataframe tbody tr th {\n",
       "        vertical-align: top;\n",
       "    }\n",
       "\n",
       "    .dataframe thead th {\n",
       "        text-align: right;\n",
       "    }\n",
       "</style>\n",
       "<table border=\"1\" class=\"dataframe\">\n",
       "  <thead>\n",
       "    <tr style=\"text-align: right;\">\n",
       "      <th></th>\n",
       "      <th>listing_id</th>\n",
       "      <th>month</th>\n",
       "      <th>year</th>\n",
       "      <th>available_01</th>\n",
       "      <th>price_new</th>\n",
       "    </tr>\n",
       "    <tr>\n",
       "      <th>monthname</th>\n",
       "      <th></th>\n",
       "      <th></th>\n",
       "      <th></th>\n",
       "      <th></th>\n",
       "      <th></th>\n",
       "    </tr>\n",
       "  </thead>\n",
       "  <tbody>\n",
       "    <tr>\n",
       "      <th>January</th>\n",
       "      <td>5.550111e+06</td>\n",
       "      <td>1.0</td>\n",
       "      <td>2016.0</td>\n",
       "      <td>0.554133</td>\n",
       "      <td>121.568409</td>\n",
       "    </tr>\n",
       "    <tr>\n",
       "      <th>February</th>\n",
       "      <td>5.550111e+06</td>\n",
       "      <td>2.0</td>\n",
       "      <td>2016.0</td>\n",
       "      <td>0.662208</td>\n",
       "      <td>124.293927</td>\n",
       "    </tr>\n",
       "    <tr>\n",
       "      <th>March</th>\n",
       "      <td>5.550111e+06</td>\n",
       "      <td>3.0</td>\n",
       "      <td>2016.0</td>\n",
       "      <td>0.709187</td>\n",
       "      <td>128.644488</td>\n",
       "    </tr>\n",
       "    <tr>\n",
       "      <th>April</th>\n",
       "      <td>5.550111e+06</td>\n",
       "      <td>4.0</td>\n",
       "      <td>2016.0</td>\n",
       "      <td>0.663847</td>\n",
       "      <td>135.097005</td>\n",
       "    </tr>\n",
       "    <tr>\n",
       "      <th>May</th>\n",
       "      <td>5.550111e+06</td>\n",
       "      <td>5.0</td>\n",
       "      <td>2016.0</td>\n",
       "      <td>0.675670</td>\n",
       "      <td>139.538183</td>\n",
       "    </tr>\n",
       "    <tr>\n",
       "      <th>June</th>\n",
       "      <td>5.550111e+06</td>\n",
       "      <td>6.0</td>\n",
       "      <td>2016.0</td>\n",
       "      <td>0.674384</td>\n",
       "      <td>147.473137</td>\n",
       "    </tr>\n",
       "    <tr>\n",
       "      <th>July</th>\n",
       "      <td>5.550111e+06</td>\n",
       "      <td>7.0</td>\n",
       "      <td>2016.0</td>\n",
       "      <td>0.627097</td>\n",
       "      <td>152.094150</td>\n",
       "    </tr>\n",
       "    <tr>\n",
       "      <th>August</th>\n",
       "      <td>5.550111e+06</td>\n",
       "      <td>8.0</td>\n",
       "      <td>2016.0</td>\n",
       "      <td>0.645051</td>\n",
       "      <td>150.656594</td>\n",
       "    </tr>\n",
       "    <tr>\n",
       "      <th>September</th>\n",
       "      <td>5.550111e+06</td>\n",
       "      <td>9.0</td>\n",
       "      <td>2016.0</td>\n",
       "      <td>0.674402</td>\n",
       "      <td>143.255949</td>\n",
       "    </tr>\n",
       "    <tr>\n",
       "      <th>October</th>\n",
       "      <td>5.550111e+06</td>\n",
       "      <td>10.0</td>\n",
       "      <td>2016.0</td>\n",
       "      <td>0.696514</td>\n",
       "      <td>137.031939</td>\n",
       "    </tr>\n",
       "    <tr>\n",
       "      <th>November</th>\n",
       "      <td>5.550111e+06</td>\n",
       "      <td>11.0</td>\n",
       "      <td>2016.0</td>\n",
       "      <td>0.713986</td>\n",
       "      <td>135.688738</td>\n",
       "    </tr>\n",
       "    <tr>\n",
       "      <th>December</th>\n",
       "      <td>5.550111e+06</td>\n",
       "      <td>12.0</td>\n",
       "      <td>2016.0</td>\n",
       "      <td>0.735132</td>\n",
       "      <td>136.965048</td>\n",
       "    </tr>\n",
       "  </tbody>\n",
       "</table>\n",
       "</div>"
      ],
      "text/plain": [
       "             listing_id  month    year  available_01   price_new\n",
       "monthname                                                       \n",
       "January    5.550111e+06    1.0  2016.0      0.554133  121.568409\n",
       "February   5.550111e+06    2.0  2016.0      0.662208  124.293927\n",
       "March      5.550111e+06    3.0  2016.0      0.709187  128.644488\n",
       "April      5.550111e+06    4.0  2016.0      0.663847  135.097005\n",
       "May        5.550111e+06    5.0  2016.0      0.675670  139.538183\n",
       "June       5.550111e+06    6.0  2016.0      0.674384  147.473137\n",
       "July       5.550111e+06    7.0  2016.0      0.627097  152.094150\n",
       "August     5.550111e+06    8.0  2016.0      0.645051  150.656594\n",
       "September  5.550111e+06    9.0  2016.0      0.674402  143.255949\n",
       "October    5.550111e+06   10.0  2016.0      0.696514  137.031939\n",
       "November   5.550111e+06   11.0  2016.0      0.713986  135.688738\n",
       "December   5.550111e+06   12.0  2016.0      0.735132  136.965048"
      ]
     },
     "execution_count": 9,
     "metadata": {},
     "output_type": "execute_result"
    }
   ],
   "source": [
    "# Drop missing prices - these are when the property is not listed\n",
    "# df_cal_rm_missprice = df_calendar.dropna(subset=['price_dollars_float'])\n",
    "\n",
    "# Roll-up to date level - mean\n",
    "df_cal_rollupmean = only_2016.groupby(by=\"monthname\", dropna=False).mean().sort_values(by='month')\n",
    "\n",
    "# Roll-up to date level - mean\n",
    "df_cal_rollupsum = only_2016.groupby(by=\"monthname\", dropna=True).count().sort_values(by='month')\n",
    "\n",
    "df_cal_rollupmean"
   ]
  },
  {
   "cell_type": "code",
   "execution_count": 10,
   "id": "85ab0068",
   "metadata": {
    "scrolled": true
   },
   "outputs": [
    {
     "data": {
      "image/png": "[encoded data removed]",
      "text/plain": [
       "<Figure size 432x288 with 1 Axes>"
      ]
     },
     "metadata": {
      "needs_background": "light"
     },
     "output_type": "display_data"
    }
   ],
   "source": [
    "plt.plot(df_cal_rollupmean.index.values, df_cal_rollupmean['price_new'], linewidth=3)\n",
    "#add title and axis labels\n",
    "plt.title('Average Price by Month, 2016')\n",
    "plt.xticks(rotation=45)\n",
    "# plt.xlabel('Date')\n",
    "plt.ylabel('Price ($)');\n"
   ]
  },
  {
   "cell_type": "code",
   "execution_count": 11,
   "id": "51587def",
   "metadata": {},
   "outputs": [
    {
     "data": {
      "image/png": "[encoded data removed]",
      "text/plain": [
       "<Figure size 432x288 with 1 Axes>"
      ]
     },
     "metadata": {
      "needs_background": "light"
     },
     "output_type": "display_data"
    }
   ],
   "source": [
    "plt.plot(df_cal_rollupmean.index.values, df_cal_rollupmean['available_01'], linewidth=3);\n",
    "plt.title('Availability by Date')\n",
    "plt.xlabel('Date')\n",
    "plt.ylabel('Price ($)');\n",
    "# not tidy - didn't add to blog in the end"
   ]
  },
  {
   "cell_type": "code",
   "execution_count": null,
   "id": "62ba4133",
   "metadata": {},
   "outputs": [],
   "source": []
  }
 ],
 "metadata": {
  "kernelspec": {
   "display_name": "conda_python3",
   "language": "python",
   "name": "conda_python3"
  },
  "language_info": {
   "codemirror_mode": {
    "name": "ipython",
    "version": 3
   },
   "file_extension": ".py",
   "mimetype": "text/x-python",
   "name": "python",
   "nbconvert_exporter": "python",
   "pygments_lexer": "ipython3",
   "version": "3.6.13"
  }
 },
 "nbformat": 4,
 "nbformat_minor": 5
}
