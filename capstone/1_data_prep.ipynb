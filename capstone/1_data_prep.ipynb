{
 "cells": [
  {
   "cell_type": "markdown",
   "metadata": {},
   "source": [
    "# Capstone Project: Create a Customer Segmentation Report for Arvato Financial Services\n",
    "\n",
    "In this project, you will analyze demographics data for customers of a mail-order sales company in Germany, comparing it against demographics information for the general population. You'll use unsupervised learning techniques to perform customer segmentation, identifying the parts of the population that best describe the core customer base of the company. Then, you'll apply what you've learned on a third dataset with demographics information for targets of a marketing campaign for the company, and use a model to predict which individuals are most likely to convert into becoming customers for the company. The data that you will use has been provided by our partners at Bertelsmann Arvato Analytics, and represents a real-life data science task.\n",
    "\n",
    "If you completed the first term of this program, you will be familiar with the first part of this project, from the unsupervised learning project. The versions of those two datasets used in this project will include many more features and has not been pre-cleaned. You are also free to choose whatever approach you'd like to analyzing the data rather than follow pre-determined steps. In your work on this project, make sure that you carefully document your steps and decisions, since your main deliverable for this project will be a blog post reporting your findings."
   ]
  },
  {
   "cell_type": "markdown",
   "metadata": {},
   "source": [
    "## Part 0: Get to Know the Data\n",
    "\n",
    "There are four data files associated with this project:\n",
    "\n",
    "- `Udacity_AZDIAS_052018.csv`: Demographics data for the general population of Germany; 891 211 persons (rows) x 366 features (columns).\n",
    "- `Udacity_CUSTOMERS_052018.csv`: Demographics data for customers of a mail-order company; 191 652 persons (rows) x 369 features (columns).\n",
    "- `Udacity_MAILOUT_052018_TRAIN.csv`: Demographics data for individuals who were targets of a marketing campaign; 42 982 persons (rows) x 367 (columns).\n",
    "- `Udacity_MAILOUT_052018_TEST.csv`: Demographics data for individuals who were targets of a marketing campaign; 42 833 persons (rows) x 366 (columns).\n",
    "\n",
    "Each row of the demographics files represents a single person, but also includes information outside of individuals, including information about their household, building, and neighborhood. Use the information from the first two files to figure out how customers (\"CUSTOMERS\") are similar to or differ from the general population at large (\"AZDIAS\"), then use your analysis to make predictions on the other two files (\"MAILOUT\"), predicting which recipients are most likely to become a customer for the mail-order company.\n",
    "\n",
    "The \"CUSTOMERS\" file contains three extra columns ('CUSTOMER_GROUP', 'ONLINE_PURCHASE', and 'PRODUCT_GROUP'), which provide broad information about the customers depicted in the file. The original \"MAILOUT\" file included one additional column, \"RESPONSE\", which indicated whether or not each recipient became a customer of the company. For the \"TRAIN\" subset, this column has been retained, but in the \"TEST\" subset it has been removed; it is against that withheld column that your final predictions will be assessed in the Kaggle competition.\n",
    "\n",
    "Otherwise, all of the remaining columns are the same between the three data files. For more information about the columns depicted in the files, you can refer to two Excel spreadsheets provided in the workspace. [One of them](./DIAS Information Levels - Attributes 2017.xlsx) is a top-level list of attributes and descriptions, organized by informational category. [The other](./DIAS Attributes - Values 2017.xlsx) is a detailed mapping of data values for each feature in alphabetical order.\n",
    "\n",
    "In the below cell, we've provided some initial code to load in the first two datasets. Note for all of the `.csv` data files in this project that they're semicolon (`;`) delimited, so an additional argument in the [`read_csv()`](https://pandas.pydata.org/pandas-docs/stable/generated/pandas.read_csv.html) call has been included to read in the data properly. Also, considering the size of the datasets, it may take some time for them to load completely.\n",
    "\n",
    "You'll notice when the data is loaded in that a warning message will immediately pop up. Before you really start digging into the modeling and analysis, you're going to need to perform some cleaning. Take some time to browse the structure of the data and look over the informational spreadsheets to understand the data values. Make some decisions on which features to keep, which features to drop, and if any revisions need to be made on data formats. It'll be a good idea to create a function with pre-processing steps, since you'll need to clean all of the datasets before you work with them."
   ]
  },
  {
   "cell_type": "markdown",
   "metadata": {},
   "source": [
    "## Table of Contents<a class=\"anchor\" id=\"toc\"></a>\n",
    "\n",
    "* [Imports](#imports)\n",
    "* [Data Prep](#data)\n",
    "* [Data Exporation](#explore)\n",
    "* [Feature Reduction](#feature)"
   ]
  },
  {
   "cell_type": "markdown",
   "metadata": {},
   "source": [
    "## Install Packages <a class=\"anchor\" id=\"imports\"></a>\n",
    "[Back to toc](#toc)"
   ]
  },
  {
   "cell_type": "code",
   "execution_count": 1,
   "metadata": {},
   "outputs": [
    {
     "name": "stdout",
     "output_type": "stream",
     "text": [
      "Collecting pandas\n",
      "\u001b[?25l  Downloading https://files.pythonhosted.org/packages/c3/e2/00cacecafbab071c787019f00ad84ca3185952f6bb9bca9550ed83870d4d/pandas-1.1.5-cp36-cp36m-manylinux1_x86_64.whl (9.5MB)\n",
      "\u001b[K    100% |████████████████████████████████| 9.5MB 2.1MB/s eta 0:00:01   10% |███▏                            | 952kB 9.8MB/s eta 0:00:01    15% |█████                           | 1.5MB 11.9MB/s eta 0:00:01    31% |██████████                      | 3.0MB 9.8MB/s eta 0:00:01    42% |█████████████▋                  | 4.0MB 9.5MB/s eta 0:00:01    53% |█████████████████▎              | 5.1MB 11.8MB/s eta 0:00:01    75% |████████████████████████▎       | 7.2MB 10.0MB/s eta 0:00:01    81% |██████████████████████████      | 7.7MB 11.4MB/s eta 0:00:01    86% |███████████████████████████▉    | 8.3MB 21.8MB/s eta 0:00:01    92% |█████████████████████████████▌  | 8.8MB 22.5MB/s eta 0:00:01    97% |███████████████████████████████▎| 9.3MB 23.0MB/s eta 0:00:01\n",
      "\u001b[?25hRequirement already satisfied, skipping upgrade: pytz>=2017.2 in /opt/conda/lib/python3.6/site-packages (from pandas) (2017.3)\n",
      "Collecting numpy>=1.15.4 (from pandas)\n",
      "\u001b[?25l  Downloading https://files.pythonhosted.org/packages/45/b2/6c7545bb7a38754d63048c7696804a0d947328125d81bf12beaa692c3ae3/numpy-1.19.5-cp36-cp36m-manylinux1_x86_64.whl (13.4MB)\n",
      "\u001b[K    100% |████████████████████████████████| 13.4MB 1.3MB/s ta 0:00:011  1% |▍                               | 163kB 9.0MB/s eta 0:00:02    8% |██▉                             | 1.2MB 9.7MB/s eta 0:00:02    16% |█████▏                          | 2.2MB 10.3MB/s eta 0:00:02    19% |██████▍                         | 2.7MB 9.7MB/s eta 0:00:02    23% |███████▋                        | 3.2MB 10.0MB/s eta 0:00:02    27% |████████▊                       | 3.7MB 10.0MB/s eta 0:00:01    30% |█████████▉                      | 4.1MB 9.7MB/s eta 0:00:01    34% |███████████                     | 4.6MB 10.3MB/s eta 0:00:01    42% |█████████████▌                  | 5.6MB 10.5MB/s eta 0:00:01    45% |██████████████▋                 | 6.1MB 9.9MB/s eta 0:00:01    56% |██████████████████              | 7.5MB 8.4MB/s eta 0:00:01    59% |███████████████████▏            | 8.0MB 10.3MB/s eta 0:00:01    63% |████████████████████▎           | 8.5MB 9.6MB/s eta 0:00:01    70% |██████████████████████▋         | 9.5MB 10.3MB/s eta 0:00:01    74% |███████████████████████▉        | 10.0MB 11.3MB/s eta 0:00:01    80% |█████████████████████████▊      | 10.8MB 9.6MB/s eta 0:00:01    86% |███████████████████████████▉    | 11.6MB 9.3MB/s eta 0:00:01    93% |██████████████████████████████  | 12.6MB 9.8MB/s eta 0:00:01    97% |███████████████████████████████▎| 13.1MB 10.1MB/s eta 0:00:01\n",
      "\u001b[?25hCollecting python-dateutil>=2.7.3 (from pandas)\n",
      "\u001b[?25l  Downloading https://files.pythonhosted.org/packages/36/7a/87837f39d0296e723bb9b62bbb257d0355c7f6128853c78955f57342a56d/python_dateutil-2.8.2-py2.py3-none-any.whl (247kB)\n",
      "\u001b[K    100% |████████████████████████████████| 256kB 5.1MB/s ta 0:00:011\n",
      "\u001b[?25hRequirement already satisfied, skipping upgrade: six>=1.5 in /opt/conda/lib/python3.6/site-packages (from python-dateutil>=2.7.3->pandas) (1.11.0)\n",
      "\u001b[31mtensorflow 1.3.0 requires tensorflow-tensorboard<0.2.0,>=0.1.0, which is not installed.\u001b[0m\n",
      "Installing collected packages: numpy, python-dateutil, pandas\n",
      "  Found existing installation: numpy 1.12.1\n",
      "    Uninstalling numpy-1.12.1:\n",
      "      Successfully uninstalled numpy-1.12.1\n",
      "  Found existing installation: python-dateutil 2.6.1\n",
      "    Uninstalling python-dateutil-2.6.1:\n",
      "      Successfully uninstalled python-dateutil-2.6.1\n",
      "  Found existing installation: pandas 0.23.3\n",
      "    Uninstalling pandas-0.23.3:\n",
      "      Successfully uninstalled pandas-0.23.3\n",
      "Successfully installed numpy-1.19.5 pandas-1.1.5 python-dateutil-2.8.2\n",
      "Requirement already up-to-date: numpy in /opt/conda/lib/python3.6/site-packages (1.19.5)\n"
     ]
    }
   ],
   "source": [
    "!pip install -U pandas\n",
    "!pip install -U numpy"
   ]
  },
  {
   "cell_type": "code",
   "execution_count": 2,
   "metadata": {},
   "outputs": [
    {
     "name": "stdout",
     "output_type": "stream",
     "text": [
      "Collecting sklearn\n",
      "  Downloading https://files.pythonhosted.org/packages/1e/7a/dbb3be0ce9bd5c8b7e3d87328e79063f8b263b2b1bfa4774cb1147bfcd3f/sklearn-0.0.tar.gz\n",
      "Requirement already satisfied, skipping upgrade: scikit-learn in /opt/conda/lib/python3.6/site-packages (from sklearn) (0.19.1)\n",
      "Building wheels for collected packages: sklearn\n",
      "  Running setup.py bdist_wheel for sklearn ... \u001b[?25ldone\n",
      "\u001b[?25h  Stored in directory: /root/.cache/pip/wheels/76/03/bb/589d421d27431bcd2c6da284d5f2286c8e3b2ea3cf1594c074\n",
      "Successfully built sklearn\n",
      "Installing collected packages: sklearn\n",
      "Successfully installed sklearn-0.0\n"
     ]
    }
   ],
   "source": [
    "!pip install -U sklearn"
   ]
  },
  {
   "cell_type": "code",
   "execution_count": 3,
   "metadata": {},
   "outputs": [
    {
     "name": "stdout",
     "output_type": "stream",
     "text": [
      "Collecting plotnine\n",
      "\u001b[?25l  Downloading https://files.pythonhosted.org/packages/e1/cf/e895bd6aea6c12b97fb9e014657aaa8a886b9fd6fc1eb3e90f9f55ddf71a/plotnine-0.8.0-py3-none-any.whl (4.7MB)\n",
      "\u001b[K    100% |████████████████████████████████| 4.7MB 2.5MB/s eta 0:00:01   6% |██                              | 286kB 18.1MB/s eta 0:00:01\n",
      "\u001b[?25hCollecting mizani>=0.7.3 (from plotnine)\n",
      "\u001b[?25l  Downloading https://files.pythonhosted.org/packages/28/ed/d66698fff045087a220561f2bed1ec4cc9cfc58611a914c1f17bbbc27d05/mizani-0.7.3-py3-none-any.whl (63kB)\n",
      "\u001b[K    100% |████████████████████████████████| 71kB 8.2MB/s eta 0:00:01\n",
      "\u001b[?25hCollecting matplotlib>=3.1.1 (from plotnine)\n",
      "\u001b[?25l  Downloading https://files.pythonhosted.org/packages/09/03/b7b30fa81cb687d1178e085d0f01111ceaea3bf81f9330c937fb6f6c8ca0/matplotlib-3.3.4-cp36-cp36m-manylinux1_x86_64.whl (11.5MB)\n",
      "\u001b[K    100% |████████████████████████████████| 11.5MB 1.5MB/s eta 0:00:01  7% |██▌                             | 911kB 9.5MB/s eta 0:00:02    11% |███▊                            | 1.4MB 7.8MB/s eta 0:00:02    15% |████▉                           | 1.7MB 10.2MB/s eta 0:00:01    20% |██████▋                         | 2.4MB 12.1MB/s eta 0:00:01    24% |███████▊                        | 2.8MB 9.9MB/s eta 0:00:01    32% |██████████▎                     | 3.7MB 9.8MB/s eta 0:00:01    36% |███████████▋                    | 4.2MB 10.1MB/s eta 0:00:01    40% |█████████████                   | 4.7MB 9.2MB/s eta 0:00:01    48% |███████████████▌                | 5.6MB 14.0MB/s eta 0:00:01    55% |█████████████████▉              | 6.4MB 9.6MB/s eta 0:00:01    59% |███████████████████             | 6.9MB 9.6MB/s eta 0:00:01    63% |████████████████████▍           | 7.3MB 8.8MB/s eta 0:00:01    66% |█████████████████████▏          | 7.6MB 7.0MB/s eta 0:00:01    69% |██████████████████████▏         | 8.0MB 11.4MB/s eta 0:00:01    72% |███████████████████████▍        | 8.4MB 9.8MB/s eta 0:00:01    80% |█████████████████████████▉      | 9.3MB 10.2MB/s eta 0:00:01    91% |█████████████████████████████▎  | 10.6MB 9.9MB/s eta 0:00:01    94% |██████████████████████████████▍ | 10.9MB 6.7MB/s eta 0:00:01\n",
      "\u001b[?25hCollecting patsy>=0.5.1 (from plotnine)\n",
      "\u001b[?25l  Downloading https://files.pythonhosted.org/packages/87/7f/d37cd027c25145eeba92b1a756976931c831803d92547c8637a3400c339f/patsy-0.5.2-py2.py3-none-any.whl (233kB)\n",
      "\u001b[K    100% |████████████████████████████████| 235kB 10.0MB/s ta 0:00:01\n",
      "\u001b[?25hCollecting scipy>=1.5.0 (from plotnine)\n",
      "\u001b[?25l  Downloading https://files.pythonhosted.org/packages/c8/89/63171228d5ced148f5ced50305c89e8576ffc695a90b58fe5bb602b910c2/scipy-1.5.4-cp36-cp36m-manylinux1_x86_64.whl (25.9MB)\n",
      "\u001b[K    100% |████████████████████████████████| 25.9MB 782kB/s ta 0:00:011  0% |▏                               | 174kB 17.5MB/s eta 0:00:02    4% |█▍                              | 1.1MB 20.9MB/s eta 0:00:02    6% |██                              | 1.6MB 11.9MB/s eta 0:00:03    8% |██▋                             | 2.1MB 10.7MB/s eta 0:00:03    10% |███▎                            | 2.6MB 9.7MB/s eta 0:00:03    14% |████▌                           | 3.6MB 10.0MB/s eta 0:00:03    17% |█████▋                          | 4.6MB 8.8MB/s eta 0:00:03    19% |██████▏                         | 5.0MB 9.7MB/s eta 0:00:03    21% |██████▉                         | 5.5MB 10.2MB/s eta 0:00:02    22% |███████▎                        | 5.9MB 7.2MB/s eta 0:00:03    24% |███████▉                        | 6.3MB 11.3MB/s eta 0:00:02    27% |█████████                       | 7.2MB 7.6MB/s eta 0:00:03    35% |███████████▎                    | 9.2MB 11.7MB/s eta 0:00:02    38% |████████████▌                   | 10.1MB 9.3MB/s eta 0:00:02    44% |██████████████▏                 | 11.5MB 16.3MB/s eta 0:00:01    47% |███████████████▎                | 12.4MB 7.4MB/s eta 0:00:02    51% |████████████████▍               | 13.3MB 12.0MB/s eta 0:00:02    53% |█████████████████               | 13.8MB 20.4MB/s eta 0:00:01    54% |█████████████████▋              | 14.2MB 8.6MB/s eta 0:00:02    56% |██████████████████▏             | 14.7MB 11.5MB/s eta 0:00:01    58% |██████████████████▊             | 15.1MB 9.6MB/s eta 0:00:02    59% |███████████████████             | 15.4MB 11.4MB/s eta 0:00:01    66% |█████████████████████▎          | 17.2MB 6.5MB/s eta 0:00:02    69% |██████████████████████▎         | 18.0MB 9.7MB/s eta 0:00:01    71% |██████████████████████▉         | 18.5MB 11.5MB/s eta 0:00:01    72% |███████████████████████▍        | 18.9MB 9.7MB/s eta 0:00:01    76% |████████████████████████▌       | 19.8MB 9.7MB/s eta 0:00:01    79% |█████████████████████████▌      | 20.6MB 10.0MB/s eta 0:00:01    82% |██████████████████████████▌     | 21.5MB 10.0MB/s eta 0:00:01    86% |███████████████████████████▌    | 22.3MB 6.7MB/s eta 0:00:01    92% |█████████████████████████████▋  | 24.0MB 9.3MB/s eta 0:00:01    94% |██████████████████████████████▏ | 24.4MB 11.7MB/s eta 0:00:01    99% |███████████████████████████████▉| 25.8MB 10.9MB/s eta 0:00:01\n",
      "\u001b[?25hRequirement already satisfied: numpy>=1.19.0 in /opt/conda/lib/python3.6/site-packages (from plotnine) (1.19.5)\n",
      "Collecting statsmodels>=0.12.1 (from plotnine)\n",
      "\u001b[?25l  Downloading https://files.pythonhosted.org/packages/0d/7b/c17815648dc31396af865b9c6627cc3f95705954e30f61106795361c39ee/statsmodels-0.12.2-cp36-cp36m-manylinux1_x86_64.whl (9.5MB)\n",
      "\u001b[K    100% |████████████████████████████████| 9.5MB 3.1MB/s eta 0:00:01  4% |█▎                              | 389kB 8.4MB/s eta 0:00:02    15% |█████                           | 1.5MB 7.6MB/s eta 0:00:02    20% |██████▍                         | 1.9MB 8.9MB/s eta 0:00:01    24% |███████▉                        | 2.3MB 8.0MB/s eta 0:00:01    28% |█████████▎                      | 2.7MB 11.3MB/s eta 0:00:01    37% |████████████                    | 3.6MB 8.9MB/s eta 0:00:01    42% |█████████████▌                  | 4.0MB 8.3MB/s eta 0:00:01    52% |█████████████████               | 5.0MB 21.8MB/s eta 0:00:01    92% |█████████████████████████████▋  | 8.8MB 18.1MB/s eta 0:00:01\n",
      "\u001b[?25hRequirement already satisfied: pandas>=1.1.0 in /opt/conda/lib/python3.6/site-packages (from plotnine) (1.1.5)\n",
      "Collecting descartes>=1.1.0 (from plotnine)\n",
      "  Downloading https://files.pythonhosted.org/packages/e5/b6/1ed2eb03989ae574584664985367ba70cd9cf8b32ee8cad0e8aaeac819f3/descartes-1.1.0-py3-none-any.whl\n",
      "Collecting palettable (from mizani>=0.7.3->plotnine)\n",
      "\u001b[?25l  Downloading https://files.pythonhosted.org/packages/ca/46/5198aa24e61bb7eef28d06cb69e56bfa1942f4b6807d95a0b5ce361fe09b/palettable-3.3.0-py2.py3-none-any.whl (111kB)\n",
      "\u001b[K    91% |█████████████████████████████▎  | 102kB 6.0MB/s eta 0:00:01    100% |████████████████████████████████| 112kB 5.9MB/s \n",
      "\u001b[?25hRequirement already satisfied: pyparsing!=2.0.4,!=2.1.2,!=2.1.6,>=2.0.3 in /opt/conda/lib/python3.6/site-packages (from matplotlib>=3.1.1->plotnine) (2.2.0)\n",
      "Collecting kiwisolver>=1.0.1 (from matplotlib>=3.1.1->plotnine)\n",
      "\u001b[?25l  Downloading https://files.pythonhosted.org/packages/a7/1b/cbd8ae738719b5f41592a12057ef5442e2ed5f5cb5451f8fc7e9f8875a1a/kiwisolver-1.3.1-cp36-cp36m-manylinux1_x86_64.whl (1.1MB)\n",
      "\u001b[K    100% |████████████████████████████████| 1.1MB 4.0MB/s ta 0:00:011 6% |██                              | 71kB 7.0MB/s eta 0:00:01    44% |██████████████▍                 | 512kB 10.0MB/s eta 0:00:01\n",
      "\u001b[?25hCollecting pillow>=6.2.0 (from matplotlib>=3.1.1->plotnine)\n",
      "\u001b[?25l  Downloading https://files.pythonhosted.org/packages/7d/2a/2fc11b54e2742db06297f7fa7f420a0e3069fdcf0e4b57dfec33f0b08622/Pillow-8.4.0.tar.gz (49.4MB)\n",
      "\u001b[K    100% |████████████████████████████████| 49.4MB 396kB/s ta 0:00:011 0% |▏                               | 204kB 10.2MB/s eta 0:00:05    1% |▍                               | 563kB 9.2MB/s eta 0:00:06    3% |█                               | 1.5MB 9.9MB/s eta 0:00:05    3% |█▏                              | 1.9MB 7.3MB/s eta 0:00:07    4% |█▌                              | 2.2MB 6.4MB/s eta 0:00:08    5% |█▊                              | 2.7MB 9.9MB/s eta 0:00:05    6% |██                              | 3.0MB 7.1MB/s eta 0:00:07    7% |██▌                             | 3.9MB 7.9MB/s eta 0:00:06    8% |██▉                             | 4.4MB 10.1MB/s eta 0:00:05    11% |███▋                            | 5.6MB 11.6MB/s eta 0:00:04    12% |████                            | 6.1MB 21.3MB/s eta 0:00:03    13% |████▏                           | 6.4MB 8.4MB/s eta 0:00:06    14% |████▌                           | 6.9MB 18.9MB/s eta 0:00:03    14% |████▉                           | 7.4MB 11.6MB/s eta 0:00:04    15% |█████                           | 7.7MB 7.6MB/s eta 0:00:06    16% |█████▎                          | 8.2MB 20.3MB/s eta 0:00:03    17% |█████▋                          | 8.6MB 7.4MB/s eta 0:00:06    18% |█████▉                          | 9.1MB 9.8MB/s eta 0:00:05    20% |██████▍                         | 9.9MB 10.3MB/s eta 0:00:04    20% |██████▊                         | 10.4MB 10.6MB/s eta 0:00:04    21% |███████                         | 10.7MB 8.8MB/s eta 0:00:05    24% |███████▊                        | 12.0MB 7.1MB/s eta 0:00:06    24% |████████                        | 12.3MB 7.8MB/s eta 0:00:05    26% |████████▌                       | 13.1MB 7.5MB/s eta 0:00:05    27% |████████▊                       | 13.5MB 10.6MB/s eta 0:00:04    28% |█████████▎                      | 14.3MB 8.9MB/s eta 0:00:04    29% |█████████▋                      | 14.7MB 10.2MB/s eta 0:00:04    31% |██████████                      | 15.5MB 9.0MB/s eta 0:00:04    33% |██████████▋                     | 16.4MB 9.4MB/s eta 0:00:04    34% |███████████                     | 16.8MB 8.4MB/s eta 0:00:04    34% |███████████▏                    | 17.2MB 7.1MB/s eta 0:00:05    35% |███████████▌                    | 17.7MB 7.3MB/s eta 0:00:05    36% |███████████▊                    | 18.1MB 11.4MB/s eta 0:00:03    38% |████████████▎                   | 19.0MB 9.4MB/s eta 0:00:04    39% |████████████▋                   | 19.5MB 8.0MB/s eta 0:00:04    40% |█████████████                   | 20.2MB 15.4MB/s eta 0:00:02    42% |█████████████▌                  | 20.8MB 12.1MB/s eta 0:00:03    43% |██████████████                  | 21.6MB 8.3MB/s eta 0:00:04    44% |██████████████▎                 | 22.0MB 8.1MB/s eta 0:00:04    45% |██████████████▋                 | 22.6MB 9.6MB/s eta 0:00:03    46% |███████████████                 | 23.1MB 9.3MB/s eta 0:00:03    48% |███████████████▌                | 23.9MB 8.8MB/s eta 0:00:03    49% |███████████████▊                | 24.3MB 9.2MB/s eta 0:00:03    52% |████████████████▊               | 25.7MB 9.6MB/s eta 0:00:03    54% |█████████████████▌              | 27.0MB 19.7MB/s eta 0:00:02    56% |██████████████████▏             | 28.1MB 11.7MB/s eta 0:00:02    57% |██████████████████▌             | 28.5MB 7.3MB/s eta 0:00:03    59% |███████████████████             | 29.4MB 18.4MB/s eta 0:00:02    64% |████████████████████▊           | 32.0MB 7.4MB/s eta 0:00:03    65% |█████████████████████           | 32.4MB 6.6MB/s eta 0:00:03    68% |██████████████████████          | 33.9MB 16.4MB/s eta 0:00:01    72% |███████████████████████         | 35.6MB 6.2MB/s eta 0:00:03    72% |███████████████████████▎        | 35.9MB 6.4MB/s eta 0:00:03    75% |████████████████████████        | 37.0MB 6.9MB/s eta 0:00:02    76% |████████████████████████▌       | 37.9MB 8.6MB/s eta 0:00:02    77% |████████████████████████▉       | 38.3MB 6.5MB/s eta 0:00:02    79% |█████████████████████████▍      | 39.2MB 6.4MB/s eta 0:00:02    80% |█████████████████████████▋      | 39.5MB 6.0MB/s eta 0:00:02    80% |█████████████████████████▉      | 39.9MB 9.8MB/s eta 0:00:01    81% |██████████████████████████▏     | 40.3MB 9.1MB/s eta 0:00:01    82% |██████████████████████████▍     | 40.7MB 10.0MB/s eta 0:00:01    83% |██████████████████████████▋     | 41.1MB 6.5MB/s eta 0:00:02    84% |███████████████████████████     | 41.5MB 11.2MB/s eta 0:00:01    85% |███████████████████████████▎    | 42.1MB 7.6MB/s eta 0:00:01    87% |████████████████████████████    | 43.0MB 7.6MB/s eta 0:00:01    88% |████████████████████████████▍   | 43.9MB 10.6MB/s eta 0:00:01    89% |████████████████████████████▊   | 44.4MB 11.3MB/s eta 0:00:01    90% |█████████████████████████████   | 44.8MB 7.3MB/s eta 0:00:01    91% |█████████████████████████████▍  | 45.3MB 7.5MB/s eta 0:00:01    93% |██████████████████████████████  | 46.1MB 8.3MB/s eta 0:00:01    94% |██████████████████████████████▏ | 46.5MB 6.9MB/s eta 0:00:01    95% |██████████████████████████████▌ | 47.0MB 11.6MB/s eta 0:00:01    96% |██████████████████████████████▊ | 47.4MB 6.1MB/s eta 0:00:01    96% |███████████████████████████████ | 47.8MB 7.7MB/s eta 0:00:01    98% |███████████████████████████████▍| 48.5MB 6.6MB/s eta 0:00:01\n",
      "\u001b[?25hRequirement already satisfied: python-dateutil>=2.1 in /opt/conda/lib/python3.6/site-packages (from matplotlib>=3.1.1->plotnine) (2.8.2)\n",
      "Requirement already satisfied: cycler>=0.10 in /opt/conda/lib/python3.6/site-packages/cycler-0.10.0-py3.6.egg (from matplotlib>=3.1.1->plotnine) (0.10.0)\n",
      "Requirement already satisfied: six in /opt/conda/lib/python3.6/site-packages (from patsy>=0.5.1->plotnine) (1.11.0)\n",
      "Requirement already satisfied: pytz>=2017.2 in /opt/conda/lib/python3.6/site-packages (from pandas>=1.1.0->plotnine) (2017.3)\n",
      "Building wheels for collected packages: pillow\n",
      "  Running setup.py bdist_wheel for pillow ... \u001b[?25ldone\n",
      "\u001b[?25h  Stored in directory: /root/.cache/pip/wheels/a7/69/9a/bba9fca6782340f88dbc378893095722a663cbc618e58fe401\n",
      "Successfully built pillow\n",
      "\u001b[31mscikit-image 0.14.2 has requirement dask[array]>=1.0.0, but you'll have dask 0.16.1 which is incompatible.\u001b[0m\n",
      "Installing collected packages: palettable, kiwisolver, pillow, matplotlib, mizani, patsy, scipy, statsmodels, descartes, plotnine\n",
      "  Found existing installation: Pillow 5.2.0\n",
      "    Uninstalling Pillow-5.2.0:\n",
      "      Successfully uninstalled Pillow-5.2.0\n",
      "  Found existing installation: matplotlib 2.1.0\n",
      "    Uninstalling matplotlib-2.1.0:\n",
      "      Successfully uninstalled matplotlib-2.1.0\n",
      "  Found existing installation: patsy 0.4.1\n",
      "    Uninstalling patsy-0.4.1:\n",
      "      Successfully uninstalled patsy-0.4.1\n",
      "  Found existing installation: scipy 1.2.1\n",
      "    Uninstalling scipy-1.2.1:\n",
      "      Successfully uninstalled scipy-1.2.1\n",
      "  Found existing installation: statsmodels 0.8.0\n",
      "    Uninstalling statsmodels-0.8.0:\n",
      "      Successfully uninstalled statsmodels-0.8.0\n",
      "Successfully installed descartes-1.1.0 kiwisolver-1.3.1 matplotlib-3.3.4 mizani-0.7.3 palettable-3.3.0 patsy-0.5.2 pillow-8.4.0 plotnine-0.8.0 scipy-1.5.4 statsmodels-0.12.2\n"
     ]
    }
   ],
   "source": [
    "!pip install plotnine"
   ]
  },
  {
   "cell_type": "code",
   "execution_count": 4,
   "metadata": {},
   "outputs": [
    {
     "name": "stderr",
     "output_type": "stream",
     "text": [
      "/opt/conda/lib/python3.6/site-packages/sklearn/ensemble/weight_boosting.py:29: DeprecationWarning: numpy.core.umath_tests is an internal NumPy module and should not be imported. It will be removed in a future NumPy release.\n"
     ]
    }
   ],
   "source": [
    "# import libraries here; add more as necessary\n",
    "import numpy as np\n",
    "import pandas as pd\n",
    "import matplotlib.pyplot as plt\n",
    "import seaborn as sns\n",
    "import itertools\n",
    "from plotnine import *\n",
    "import plotnine\n",
    "\n",
    "import time\n",
    "import datetime\n",
    "\n",
    "# Import module for k-modes cluster\n",
    "import scipy.stats as stats\n",
    "from sklearn.model_selection import train_test_split \n",
    "from sklearn.ensemble import RandomForestClassifier \n",
    "from sklearn.model_selection import GridSearchCV\n",
    "\n",
    "# magic word for producing visualizations in notebook\n",
    "%matplotlib inline\n",
    "# Use the theme of ggplot\n",
    "plt.style.use('ggplot')\n",
    "\n",
    "pd.set_option('display.max_rows', 999)\n",
    "pd.set_option('display.max_columns', 999)"
   ]
  },
  {
   "cell_type": "code",
   "execution_count": 5,
   "metadata": {},
   "outputs": [
    {
     "name": "stdout",
     "output_type": "stream",
     "text": [
      "Collecting kmodes\n",
      "  Downloading https://files.pythonhosted.org/packages/08/62/6fd3aa039eb9a63fad4be080fefe230c94babe580be72c8de9725eb6a4a7/kmodes-0.12.1-py2.py3-none-any.whl\n",
      "Requirement already satisfied: scipy>=0.13.3 in /opt/conda/lib/python3.6/site-packages (from kmodes) (1.5.4)\n",
      "Requirement already satisfied: numpy>=1.10.4 in /opt/conda/lib/python3.6/site-packages (from kmodes) (1.19.5)\n",
      "Collecting scikit-learn>=0.22.0 (from kmodes)\n",
      "\u001b[?25l  Downloading https://files.pythonhosted.org/packages/f5/ef/bcd79e8d59250d6e8478eb1290dc6e05be42b3be8a86e3954146adbc171a/scikit_learn-0.24.2-cp36-cp36m-manylinux1_x86_64.whl (20.0MB)\n",
      "\u001b[K    100% |████████████████████████████████| 20.0MB 2.0MB/s eta 0:00:01   19% |██████▏                         | 3.9MB 22.4MB/s eta 0:00:01    24% |████████                        | 5.0MB 22.3MB/s eta 0:00:01    30% |█████████▊                      | 6.1MB 23.7MB/s eta 0:00:01    45% |██████████████▋                 | 9.1MB 22.6MB/s eta 0:00:01    50% |████████████████▏               | 10.1MB 21.2MB/s eta 0:00:01    55% |█████████████████▉              | 11.1MB 17.5MB/s eta 0:00:01    60% |███████████████████▎            | 12.1MB 20.3MB/s eta 0:00:01    92% |█████████████████████████████▌  | 18.4MB 21.7MB/s eta 0:00:01    97% |███████████████████████████████▎| 19.5MB 22.6MB/s eta 0:00:01\n",
      "\u001b[?25hRequirement already satisfied: joblib>=0.11 in /opt/conda/lib/python3.6/site-packages (from kmodes) (0.11)\n",
      "Collecting threadpoolctl>=2.0.0 (from scikit-learn>=0.22.0->kmodes)\n",
      "  Downloading https://files.pythonhosted.org/packages/61/cf/6e354304bcb9c6413c4e02a747b600061c21d38ba51e7e544ac7bc66aecc/threadpoolctl-3.1.0-py3-none-any.whl\n",
      "Installing collected packages: threadpoolctl, scikit-learn, kmodes\n",
      "  Found existing installation: scikit-learn 0.19.1\n",
      "    Uninstalling scikit-learn-0.19.1:\n",
      "      Successfully uninstalled scikit-learn-0.19.1\n",
      "Successfully installed kmodes-0.12.1 scikit-learn-0.24.2 threadpoolctl-3.1.0\n"
     ]
    }
   ],
   "source": [
    "!pip install kmodes"
   ]
  },
  {
   "cell_type": "code",
   "execution_count": 6,
   "metadata": {},
   "outputs": [],
   "source": [
    "from kmodes.kmodes import KModes"
   ]
  },
  {
   "cell_type": "code",
   "execution_count": 7,
   "metadata": {},
   "outputs": [
    {
     "name": "stdout",
     "output_type": "stream",
     "text": [
      "Python version\n",
      "3.6.3 | packaged by conda-forge | (default, Dec  9 2017, 04:28:46) \n",
      "[GCC 4.8.2 20140120 (Red Hat 4.8.2-15)]\n",
      "Version info.\n",
      "sys.version_info(major=3, minor=6, micro=3, releaselevel='final', serial=0)\n"
     ]
    }
   ],
   "source": [
    "import sys\n",
    "print(\"Python version\")\n",
    "print (sys.version)\n",
    "print(\"Version info.\")\n",
    "print (sys.version_info)"
   ]
  },
  {
   "cell_type": "markdown",
   "metadata": {},
   "source": [
    "## Data prep <a class=\"anchor\" id=\"data\"></a>\n",
    "[Back to toc](#toc)\n",
    "\n",
    "1. **Read in Data Dictionary.** I created fieldnames.csv and valuenames.csv by downloading the data dictionaries, finding unique values of the attribute name and saving this as a csv file. I will drop variables that don't have a match to those fields in the data dictionaries. \n",
    "2. **Classify Columns.** <br> a. Most of the columns are categorical. I read through the data dictionary and identifed fields that contained numeric data. <br>b. At the data exploration phase I identified columns with more than 100 levels. <br> c. I found fields with a large volume of missing values. <br> d. Columns with a single level having more than 98% of the customers in.\n",
    "3. **Read data.** Read in the data with all columns being coded as *object* except 2a and 2b (above). \n",
    "4. **Clean data** <br> a. I created a list from the Values data dictionary of values that should be coded as NULL by filtering on 'unknown' and 'no transactions known' and then if there were 2 levels I split them across columns. I saved this as a csv. <br> b. Remove customers with missing KBA05 and KBA13 data. This is 30% of the data lost. \n",
    "<br> c. Remove 2c and 2d\n",
    "<br> d. Remove customers with a missing value for 1 or more column. <5% of the data lost.\n",
    "5. Drop columns missing from the Data Dictionary"
   ]
  },
  {
   "cell_type": "markdown",
   "metadata": {},
   "source": [
    "Future work:\n",
    "1. REGIOTYPE needs 0 coded as missing\n",
    "2. Bias created by removing missing KBA05 and KBA13 data."
   ]
  },
  {
   "cell_type": "code",
   "execution_count": 9,
   "metadata": {},
   "outputs": [],
   "source": [
    "# Read in data dictionary fields and combine to create list of these\n",
    "fieldnames = pd.read_csv('fieldnames.csv')\n",
    "list_fieldnames = list(fieldnames['Attribute'].values)\n",
    "\n",
    "valuenames = pd.read_csv('valuenames.csv')\n",
    "list_valuenames = list(valuenames['Attribute'].values)\n",
    "\n",
    "# labels for printing graphs\n",
    "labels = pd.read_csv('labels.csv', dtype={'level': 'object'})\n",
    "\n",
    "# List of fields in the data dictionaries\n",
    "dd = list(set(list_valuenames).union(set(list_fieldnames)))"
   ]
  },
  {
   "cell_type": "code",
   "execution_count": 10,
   "metadata": {},
   "outputs": [
    {
     "data": {
      "text/plain": [
       "{'D19_KONSUMTYP': 'Consumption type (Household)',\n",
       " 'FINANZ_SPARER': 'Money saver (Person)',\n",
       " 'FINANZ_ANLEGER': 'Investor (Person)',\n",
       " 'FINANZTYP': 'Financial Type (Person)',\n",
       " 'LP_STATUS_FEIN': 'Social Status (Person)',\n",
       " 'SEMIO_LUST': 'Person is sensual minded',\n",
       " 'HH_EINKOMMEN_SCORE': 'Household net income ',\n",
       " 'FINANZ_UNAUFFAELLIGER': 'Person financial typology: unremarkable',\n",
       " 'WOHNDAUER_2008': 'Length of residence',\n",
       " 'LP_FAMILIE_GROB': 'Family type',\n",
       " 'ANREDE_KZ': 'gender',\n",
       " 'FINANZ_VORSORGER': 'financial typology: be prepared',\n",
       " 'RETOURTYP_BK_S': 'return type',\n",
       " 'SEMIO_VERT': 'Affinity indicating in what way the person is dreamily',\n",
       " 'CJT_GESAMTTYP': 'customer journey typology',\n",
       " 'KBA13_SITZE_5': 'number of cars with less than 5 seats in the PLZ8',\n",
       " 'ARBEIT': 'share of unemployed in relation to the county the community belongs to',\n",
       " 'KBA13_BMW': 'share of BMW within the PLZ8',\n",
       " 'PLZ8_GBZ': 'number of buildings within the PLZ8',\n",
       " 'PLZ8_ANTG2': 'number of 3-5 family houses in the PLZ8',\n",
       " 'KONSUMNAEHE': 'distance from a building to PoS (Point of Sale)',\n",
       " 'KBA13_KMH_140': 'share of cars with max speed between 110 km/h and 140km/h within the PLZ8',\n",
       " 'KBA13_HALTER_55': 'share of car owners between 51 and 55 within the PLZ8'}"
      ]
     },
     "execution_count": 10,
     "metadata": {},
     "output_type": "execute_result"
    }
   ],
   "source": [
    "# column names\n",
    "labels_col_names = labels[['field', 'desc']].drop_duplicates()\n",
    "dict_col_names = labels_col_names.set_index('field').to_dict()['desc']"
   ]
  },
  {
   "cell_type": "code",
   "execution_count": 11,
   "metadata": {},
   "outputs": [],
   "source": [
    "# Classify columns\n",
    "\n",
    "# Numeric\n",
    "list_numeric  = [\n",
    "    'ANZ_HH_TITEL'\n",
    "    ,'ANZ_PERSONEN'\n",
    "#     ,'ANZ_TITEL'\n",
    "    , 'MIN_GEBAEUDEJAHR' # This is year so needs to be recoded to Time since\n",
    "    ]\n",
    "\n",
    "# greater than 100 levels - likely numeric\n",
    "list_large_lvls  = [\n",
    "    'LNR'                            \n",
    "    ,'EINGEFUEGT_AM'                    \n",
    "    ,'KBA13_ANZAHL_PKW'                 \n",
    "    ,'ANZ_HAUSHALTE_AKTIV'               \n",
    "    ,'ANZ_STATISTISCHE_HAUSHALTE'        \n",
    "    ,'GEBURTSJAHR'     \n",
    "    ]\n",
    "\n",
    "# fields with large number of missings\n",
    "list_missing  = [\n",
    "'ALTER_KIND4'                    \n",
    ",'ALTER_KIND3'                   \n",
    ",'TITEL_KZ'                       \n",
    ",'ALTER_KIND2'                  \n",
    ",'ALTER_KIND1'                  \n",
    ",'KK_KUNDENTYP'                \n",
    ",'KBA05_BAUMAX'                  \n",
    ",'AGER_TYP'                      \n",
    ",'EXTSEL992'                     \n",
    ",'ALTER_HH'                      \n",
    ",'W_KEIT_KIND_HH' \n",
    "  ]\n",
    "\n",
    "# Columns with single level with my that 98% of customers in 1 of the levels. Based on clean data after removing 05/13, Na rows\n",
    "list_high_sing_lvl = [\n",
    "'ANZ_TITEL'\n",
    ",'D19_TELKO_ONLINE_DATUM'\n",
    ",'D19_TELKO_ONLINE_QUOTE_12'\n",
    ",'D19_VERSI_ONLINE_DATUM'\n",
    ",'D19_VERSI_ONLINE_QUOTE_12'\n",
    ",'DSL_FLAG'\n",
    ",'SOHO_KZ'\n",
    "]"
   ]
  },
  {
   "cell_type": "code",
   "execution_count": 12,
   "metadata": {},
   "outputs": [],
   "source": [
    "# Read in data types. \n",
    "\n",
    "def data_types(customers_csv, list_large_lvls, list_numeric):\n",
    "    \"\"\"\n",
    "    Load in customers data and creates a dictionary with the columns that should be coded as object. \n",
    "    \"\"\"\n",
    "    \n",
    "    all_columns = pd.read_csv(customers_csv, nrows=0 , sep=';').columns.tolist()\n",
    "\n",
    "    object_vars = list(set(all_columns) - set(list_large_lvls) - set(list_numeric))\n",
    "\n",
    "    dic_dtype = {}\n",
    "    for var in object_vars:\n",
    "        dic_dtype.update({var: 'object'})\n",
    "        \n",
    "    return dic_dtype\n",
    "\n",
    "        \n",
    "\n",
    "\n",
    "# Run all\n",
    "dic_dtype = data_types('../../data/Term2/capstone/arvato_data/Udacity_CUSTOMERS_052018.csv', list_large_lvls\n",
    "                      , list_numeric )"
   ]
  },
  {
   "cell_type": "code",
   "execution_count": null,
   "metadata": {},
   "outputs": [],
   "source": [
    "# Read in data. \n",
    "\n",
    "def load_data(input_csv, dic_dtype):\n",
    "    \"\"\"\n",
    "    Load in data from filepaths provided.\n",
    "    \"\"\"\n",
    "    \n",
    "    df = pd.read_csv(input_csv, sep=';',\n",
    "                      dtype=dic_dtype\n",
    "                     )\n",
    "    \n",
    "    return df\n",
    "\n",
    "print('Loading data...')\n",
    "germany = load_data('../../data/Term2/capstone/arvato_data/Udacity_AZDIAS_052018.csv', dic_dtype)\n",
    "print('germany loaded')\n",
    "customers = load_data('../../data/Term2/capstone/arvato_data/Udacity_CUSTOMERS_052018.csv', dic_dtype)\n",
    "print('customers loaded')"
   ]
  },
  {
   "cell_type": "code",
   "execution_count": 12,
   "metadata": {},
   "outputs": [],
   "source": [
    "# Load missing data info\n",
    "\n",
    "def load_miss_data(missing_csv):\n",
    "    \"\"\"\n",
    "    Load in missing data info and outputs 2 dictionaries of the level that should be NULL.\n",
    "    \"\"\"\n",
    "    missing_values = pd.read_csv(missing_csv)\n",
    "    \n",
    "    dic_miss = dict(missing_values[['Attribute','Value']].values)\n",
    "    dic_miss2 = dict(missing_values[['Attribute','second']].dropna().values)\n",
    "    \n",
    "    return dic_miss, dic_miss2\n",
    "\n",
    "dic_miss, dic_miss2 = load_miss_data('unknown_values.csv')"
   ]
  },
  {
   "cell_type": "code",
   "execution_count": 11,
   "metadata": {},
   "outputs": [
    {
     "name": "stdout",
     "output_type": "stream",
     "text": [
      "Cleaning data...\n",
      "Shape of original (191652, 371) ... shape of clean (118961, 351)\n",
      "customers cleaned\n",
      "Shape of original (191652, 371) ... shape of clean (466724, 348)\n",
      "germany cleaned\n"
     ]
    }
   ],
   "source": [
    "# Clean data \n",
    "def clean_data(df, dropKBA05_13): \n",
    "    \n",
    "    if dropKBA05_13 = 1:\n",
    "        # Drop customers with missing KBA05 and KBA13 data\n",
    "        df['KBA05_Missing'] = df['KBA05_SEG7'].isnull()\n",
    "        df['KBA13_Missing'] = df['KBA13_FORD'].isnull()\n",
    "\n",
    "        customers_clean =  df[(df['KBA05_Missing'] == False) & (df['KBA13_Missing'] == False)].drop(['KBA05_Missing', 'KBA13_Missing'], axis = 1)\n",
    "\n",
    "    else:\n",
    "        customers_clean = df\n",
    "        \n",
    "    # Recode Missing categories as Nulls\n",
    "    for key, value in dic_miss.items():\n",
    "        try:\n",
    "            customers_clean[key]=customers_clean[key].apply(lambda x: np.nan if x==value else x)\n",
    "        except:\n",
    "            pass\n",
    "\n",
    "    for key, value in dic_miss2.items():\n",
    "        try:\n",
    "            customers_clean[key]=customers_clean[key].apply(lambda x: np.nan if x==value else x)\n",
    "        except:\n",
    "            pass\n",
    "\n",
    "    # Drop columns with high volumes of missing and single values\n",
    "    list_drop = list(set(list_high_sing_lvl).union(set(list_missing)))\n",
    "    customers_clean.drop(list_drop, axis = 1, inplace = True)\n",
    "\n",
    "    # Drop rows with missing values\n",
    "    customers_clean.dropna(inplace = True)\n",
    "\n",
    "    # Print shapes before and after cleaning\n",
    "    shape = customers.shape\n",
    "    cleanshape = customers_clean.shape\n",
    "    print(f'Shape of original {shape} ... shape of clean {cleanshape}' ) \n",
    "    \n",
    "    return customers_clean\n",
    "\n",
    "print('Cleaning data...')\n",
    "customers_clean = clean_data(customers,1)\n",
    "print('customers cleaned')\n",
    "germany_clean = clean_data(germany,1)\n",
    "print('germany cleaned')"
   ]
  },
  {
   "cell_type": "code",
   "execution_count": 12,
   "metadata": {},
   "outputs": [],
   "source": [
    "# Additional step - remove columns not in DD\n",
    "not_in_ger = list(set(customers_clean.columns.tolist()) - set(germany_clean.columns.tolist()) )\n",
    "not_in_missvals = list(set(customers_clean.columns.tolist()) - set(dic_miss.keys()) )\n",
    "not_in_dd = list(set(customers_clean.columns.tolist()) - set(dd) - set(not_in_ger) )\n",
    "\n",
    "# Drop fields not in data dictionary\n",
    "germany_clean.drop(not_in_dd, axis = 1, inplace = True)\n",
    "customers_clean.drop(not_in_dd, axis = 1, inplace = True)"
   ]
  },
  {
   "cell_type": "code",
   "execution_count": 13,
   "metadata": {},
   "outputs": [
    {
     "data": {
      "text/plain": [
       "(118961, 271)"
      ]
     },
     "execution_count": 13,
     "metadata": {},
     "output_type": "execute_result"
    }
   ],
   "source": [
    "customers_clean.shape"
   ]
  },
  {
   "cell_type": "code",
   "execution_count": 14,
   "metadata": {},
   "outputs": [
    {
     "data": {
      "text/plain": [
       "(466724, 268)"
      ]
     },
     "execution_count": 14,
     "metadata": {},
     "output_type": "execute_result"
    }
   ],
   "source": [
    "germany_clean.shape"
   ]
  },
  {
   "cell_type": "markdown",
   "metadata": {},
   "source": [
    "## Data Exploration <a class=\"anchor\" id=\"explore\"></a>\n",
    "[Back to toc](#toc)"
   ]
  },
  {
   "cell_type": "markdown",
   "metadata": {},
   "source": [
    "### Group variables"
   ]
  },
  {
   "cell_type": "code",
   "execution_count": 15,
   "metadata": {},
   "outputs": [],
   "source": [
    "all_columns_clean = customers_clean.columns.tolist()\n",
    "\n",
    "# How many levels\n",
    "counts= customers_clean.nunique(dropna=False)\n",
    "counts.sort_values(ascending=True, inplace=True)\n",
    "\n",
    "# Single value - none\n",
    "single_val_col = counts[counts == 1]\n",
    "l_single_val_col = list(single_val_col.index.values)\n",
    "\n",
    "# binary - 4\n",
    "doube_val_col = counts[counts == 2]\n",
    "l_binary_val_col = list(doube_val_col.index.values)"
   ]
  },
  {
   "cell_type": "code",
   "execution_count": 16,
   "metadata": {},
   "outputs": [],
   "source": [
    "# Values that have a single value_count > 98% of the rows\n",
    "# Commenting out as these columns have been added to the Data Cleaning stage.\n",
    "\n",
    "# for col in all_columns_clean:\n",
    "#     test = customers_clean[col].value_counts().rename_axis('unique_values').reset_index(name='counts')\n",
    "#     test2= test[test['counts']/customers_clean.shape[0]>0.98]\n",
    "\n",
    "#     if test2.shape[0] > 0:\n",
    "#         print(col)"
   ]
  },
  {
   "cell_type": "markdown",
   "metadata": {},
   "source": [
    "### Visualise\n",
    "\n",
    "These graphs haven't been tidied as they won't be reported anywhere and just here as an option to have a look at some columns."
   ]
  },
  {
   "cell_type": "code",
   "execution_count": 13,
   "metadata": {},
   "outputs": [],
   "source": [
    "# Histogram of features - takes too long to print them all so filter on this list first \n",
    "look_cat_cols= ['D19_BANKEN_ONLINE_QUOTE_12'] "
   ]
  },
  {
   "cell_type": "code",
   "execution_count": 18,
   "metadata": {},
   "outputs": [
    {
     "data": {
      "image/png": "[encoded data removed]",
      "text/plain": [
       "<Figure size 432x288 with 1 Axes>"
      ]
     },
     "metadata": {
      "needs_background": "light"
     },
     "output_type": "display_data"
    }
   ],
   "source": [
    "# Graphs - customers\n",
    "for col in look_cat_cols:\n",
    "    vals = customers_clean[col].value_counts(dropna=False)\n",
    "    (vals/customers_clean.shape[0]).plot(kind=\"bar\")\n",
    "    plt.title(col)\n",
    "    plt.show()"
   ]
  },
  {
   "cell_type": "code",
   "execution_count": 19,
   "metadata": {},
   "outputs": [
    {
     "data": {
      "image/png": "[encoded data removed]",
      "text/plain": [
       "<Figure size 432x288 with 1 Axes>"
      ]
     },
     "metadata": {
      "needs_background": "light"
     },
     "output_type": "display_data"
    }
   ],
   "source": [
    "# Graphs - Germany\n",
    "for col in look_cat_cols:\n",
    "    vals = germany_clean[col].value_counts(dropna=False)\n",
    "    (vals/germany_clean.shape[0]).plot(kind=\"bar\")\n",
    "    plt.title(col)\n",
    "    plt.show()"
   ]
  },
  {
   "cell_type": "code",
   "execution_count": 20,
   "metadata": {},
   "outputs": [
    {
     "data": {
      "image/png": "[encoded data removed]",
      "text/plain": [
       "<Figure size 432x288 with 4 Axes>"
      ]
     },
     "metadata": {
      "needs_background": "light"
     },
     "output_type": "display_data"
    }
   ],
   "source": [
    "# histograms of numeric fields\n",
    "customers_clean[list_numeric].hist(bins=30);"
   ]
  },
  {
   "cell_type": "markdown",
   "metadata": {},
   "source": [
    "## Feature Reduction <a class=\"anchor\" id=\"feature\"></a>\n",
    "[Back to toc](#toc)\n",
    "\n",
    "For simplicity, I have removed additional varibales namely: numeric and variables with many levels that would seem more continuous in nature or would introduce too much cardinality once encoded. There are techniques that can cope with both types. I have also removed 3 variables that have levels with <5 customers as my statistical test wouldn't be appropriate for these.\n",
    "\n",
    "<br> This section runs a chi-squared test on all the combinations of columns and finds Cramer's V as a measure of how correlated they are to one another. Again for simplicity, it drops one of the correlated variables at random but I would suggest coming back to this and also considering feature importance.\n",
    "Refs: \n",
    "<br> https://www.statology.org/interpret-cramers-v/\n",
    "<br> https://www.kaggle.com/code/phaethonprime/eda-and-logistic-regression/notebook\n",
    "<br> <br> I have picked CV cut-offs mentioned on the page above."
   ]
  },
  {
   "cell_type": "code",
   "execution_count": 21,
   "metadata": {},
   "outputs": [],
   "source": [
    "cutoff_1 = 0.50\n",
    "cutoff_2 = 0.35\n",
    "cutoff_3 = 0.29\n",
    "cutoff_4 = 0.25\n",
    "cutoff_5 = 0.22 # conservative all dof>5 will use this one. i.e. will keep more columns"
   ]
  },
  {
   "cell_type": "code",
   "execution_count": 22,
   "metadata": {},
   "outputs": [],
   "source": [
    "# After running Chi-squared test and printing dof these categorical variables have many levels\n",
    "many_levels = ['GFK_URLAUBERTYP', 'LP_LEBENSPHASE_GROB', 'PRAEGENDE_JUGENDJAHRE', 'MIN_GEBAEUDEJAHR', 'LP_LEBENSPHASE_FEIN', 'CAMEO_DEU_2015' ]\n",
    "# Chi-squared test gives warning as low volumes (<5 customers) in some of the levels\n",
    "not_tested = ['WOHNLAGE', 'D19_BANKEN_ONLINE_QUOTE_12', 'KBA05_GBZ']"
   ]
  },
  {
   "cell_type": "code",
   "execution_count": 23,
   "metadata": {},
   "outputs": [],
   "source": [
    "# At this stage for simplicity\n",
    "# Drop all the numeric, low volumes in some levels, too many levels for a categorical variable\n",
    "\n",
    "cus_chi_cols = list(set(all_columns_clean) - set(list_large_lvls) - set(list_numeric)  \n",
    "                       - set(not_tested) -set(many_levels) \n",
    "                      )\n",
    "ger_chi_cols = list(set(all_columns_clean) - set(list_large_lvls) - set(list_numeric)  \n",
    "                       - set(not_tested) -set(many_levels) \n",
    "                      - set(not_in_ger)\n",
    "                      )\n",
    "\n",
    "customers_dropv = customers_clean[cus_chi_cols]\n",
    "germany_dropv = germany_clean[ger_chi_cols]"
   ]
  },
  {
   "cell_type": "code",
   "execution_count": 24,
   "metadata": {},
   "outputs": [],
   "source": [
    "# https://www.kaggle.com/code/phaethonprime/eda-and-logistic-regression/notebook\n",
    "def cramers_corrected_stat(conting):\n",
    "    \"\"\" calculate Cramers V statistic for categorical-categorical association.\n",
    "        uses correction from Bergsma and Wicher, \n",
    "        Journal of the Korean Statistical Society 42 (2013): 323-328\n",
    "    \"\"\"\n",
    "    chi2 = stats.chi2_contingency(conting)[0]\n",
    "    n = conting.sum().sum()\n",
    "    phi2 = chi2/n\n",
    "    r,k = conting.shape\n",
    "    phi2corr = max(0, phi2 - ((k-1)*(r-1))/(n-1))    \n",
    "    rcorr = r - ((r-1)**2)/(n-1)\n",
    "    kcorr = k - ((k-1)**2)/(n-1)\n",
    "    return np.sqrt(phi2corr / min( (kcorr-1), (rcorr-1))) , min((kcorr-1), (rcorr-1))"
   ]
  },
  {
   "cell_type": "code",
   "execution_count": 25,
   "metadata": {},
   "outputs": [],
   "source": [
    "corr_output = pd.DataFrame(columns = ['Col1', 'Col2', 'CramerV', 'dof'])\n",
    "\n",
    "for col1, col2 in itertools.combinations(cus_chi_cols, 2):\n",
    "\n",
    "    cramer, dof = cramers_corrected_stat(pd.crosstab(customers_dropv[col1], customers_dropv[col2]))\n",
    "\n",
    "    corr_output = corr_output.append({'Col1': col1,\n",
    "                                      'Col2': col2,\n",
    "                                      'CramerV': cramer,\n",
    "                                      'dof': dof\n",
    "                                          }, ignore_index=True)"
   ]
  },
  {
   "cell_type": "code",
   "execution_count": 26,
   "metadata": {},
   "outputs": [],
   "source": [
    "corrhigh = corr_output.loc[  ((corr_output.CramerV > cutoff_1) & (corr_output['dof'].between(0, 1, inclusive = 'right')))\n",
    "                           | ((corr_output.CramerV > cutoff_2) & (corr_output['dof'].between(1, 2, inclusive = 'right')))\n",
    "                           | ((corr_output.CramerV > cutoff_3) & (corr_output['dof'].between(2, 3, inclusive = 'right')))\n",
    "                           | ((corr_output.CramerV > cutoff_4) & (corr_output['dof'].between(3, 4, inclusive = 'right')))\n",
    "                           | ((corr_output.CramerV > cutoff_5) & (corr_output['dof']> 4 ))\n",
    "                          ]"
   ]
  },
  {
   "cell_type": "code",
   "execution_count": 27,
   "metadata": {},
   "outputs": [
    {
     "data": {
      "text/plain": [
       "192"
      ]
     },
     "execution_count": 27,
     "metadata": {},
     "output_type": "execute_result"
    }
   ],
   "source": [
    "# Example\n",
    "# Consider these pairs of correlated pairs:\n",
    "\n",
    "# a b\n",
    "# b c - skipped by if statement\n",
    "# d e \n",
    "# a c - a will be deduped in the keep list\n",
    "# f b - b will be deduped in the drop list\n",
    "\n",
    "# Put highly correlated columns into lists\n",
    "col1 = list(corrhigh.Col1)\n",
    "col2 = list(corrhigh.Col2)\n",
    "\n",
    "# Set up empty lists\n",
    "keep_corr = []\n",
    "drop_corr = []\n",
    "\n",
    "# Loop\n",
    "for i in range(1, len(col1)):\n",
    "\n",
    "    if col1[i] not in drop_corr:\n",
    "        keep_corr.append(col1[i])\n",
    "        #dedup\n",
    "        keep_corr = list(set(keep_corr))\n",
    "\n",
    "        drop_corr.append(col2[i])\n",
    "        #dedup\n",
    "        drop_corr = list(set(drop_corr))\n"
   ]
  },
  {
   "cell_type": "code",
   "execution_count": 31,
   "metadata": {},
   "outputs": [
    {
     "data": {
      "text/plain": [
       "191"
      ]
     },
     "execution_count": 31,
     "metadata": {},
     "output_type": "execute_result"
    }
   ],
   "source": [
    "# Keep the fields that are in Customers only\n",
    "drop_corr.remove('CUSTOMER_GROUP')\n",
    "len(drop_corr)"
   ]
  },
  {
   "cell_type": "code",
   "execution_count": 32,
   "metadata": {},
   "outputs": [],
   "source": [
    "# Drop fields not in data dictionary\n",
    "\n",
    "customers_FR = customers_dropv.drop(drop_corr, axis = 1)\n",
    "germany_FR   = germany_dropv.drop(drop_corr, axis = 1)\n",
    "\n",
    "all_columns_FR = list(customers_FR.columns)"
   ]
  },
  {
   "cell_type": "code",
   "execution_count": 14,
   "metadata": {},
   "outputs": [
    {
     "data": {
      "text/plain": [
       "(118961, 67)"
      ]
     },
     "execution_count": 14,
     "metadata": {},
     "output_type": "execute_result"
    }
   ],
   "source": [
    "customers_FR.shape"
   ]
  },
  {
   "cell_type": "code",
   "execution_count": 88,
   "metadata": {},
   "outputs": [
    {
     "data": {
      "text/plain": [
       "(466724, 64)"
      ]
     },
     "execution_count": 88,
     "metadata": {},
     "output_type": "execute_result"
    }
   ],
   "source": [
    "germany_FR.shape"
   ]
  },
  {
   "cell_type": "code",
   "execution_count": null,
   "metadata": {},
   "outputs": [],
   "source": [
    "# Create a sample of Germany with the same number of rows as Customer\n",
    "Germany_samp = germany_FR.sample(n = customers_FR.shape[0], random_state = 12345).copy()"
   ]
  },
  {
   "cell_type": "code",
   "execution_count": 44,
   "metadata": {},
   "outputs": [],
   "source": [
    "Germany_samp.to_csv(\"Germany_samp.csv\" , index=False)"
   ]
  },
  {
   "cell_type": "code",
   "execution_count": 35,
   "metadata": {},
   "outputs": [],
   "source": [
    "# output to csv\n",
    "customers_FR.to_csv(\"customers_FR.csv\", index=False)\n",
    "germany_FR.to_csv(\"germany_FR.csv\" , index=False)"
   ]
  }
 ],
 "metadata": {
  "kernelspec": {
   "display_name": "Python 3",
   "language": "python",
   "name": "python3"
  },
  "language_info": {
   "codemirror_mode": {
    "name": "ipython",
    "version": 3
   },
   "file_extension": ".py",
   "mimetype": "text/x-python",
   "name": "python",
   "nbconvert_exporter": "python",
   "pygments_lexer": "ipython3",
   "version": "3.6.3"
  }
 },
 "nbformat": 4,
 "nbformat_minor": 2
}
