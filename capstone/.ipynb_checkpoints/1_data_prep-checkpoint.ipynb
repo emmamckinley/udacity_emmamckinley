{
 "cells": [
  {
   "cell_type": "markdown",
   "metadata": {},
   "source": [
    "# Capstone Project: Create a Customer Segmentation Report for Arvato Financial Services\n",
    "\n",
    "In this project, you will analyze demographics data for customers of a mail-order sales company in Germany, comparing it against demographics information for the general population. You'll use unsupervised learning techniques to perform customer segmentation, identifying the parts of the population that best describe the core customer base of the company. Then, you'll apply what you've learned on a third dataset with demographics information for targets of a marketing campaign for the company, and use a model to predict which individuals are most likely to convert into becoming customers for the company. The data that you will use has been provided by our partners at Bertelsmann Arvato Analytics, and represents a real-life data science task.\n",
    "\n",
    "If you completed the first term of this program, you will be familiar with the first part of this project, from the unsupervised learning project. The versions of those two datasets used in this project will include many more features and has not been pre-cleaned. You are also free to choose whatever approach you'd like to analyzing the data rather than follow pre-determined steps. In your work on this project, make sure that you carefully document your steps and decisions, since your main deliverable for this project will be a blog post reporting your findings."
   ]
  },
  {
   "cell_type": "markdown",
   "metadata": {},
   "source": [
    "## Part 0: Get to Know the Data\n",
    "\n",
    "There are four data files associated with this project:\n",
    "\n",
    "- `Udacity_AZDIAS_052018.csv`: Demographics data for the general population of Germany; 891 211 persons (rows) x 366 features (columns).\n",
    "- `Udacity_CUSTOMERS_052018.csv`: Demographics data for customers of a mail-order company; 191 652 persons (rows) x 369 features (columns).\n",
    "- `Udacity_MAILOUT_052018_TRAIN.csv`: Demographics data for individuals who were targets of a marketing campaign; 42 982 persons (rows) x 367 (columns).\n",
    "- `Udacity_MAILOUT_052018_TEST.csv`: Demographics data for individuals who were targets of a marketing campaign; 42 833 persons (rows) x 366 (columns).\n",
    "\n",
    "Each row of the demographics files represents a single person, but also includes information outside of individuals, including information about their household, building, and neighborhood. Use the information from the first two files to figure out how customers (\"CUSTOMERS\") are similar to or differ from the general population at large (\"AZDIAS\"), then use your analysis to make predictions on the other two files (\"MAILOUT\"), predicting which recipients are most likely to become a customer for the mail-order company.\n",
    "\n",
    "The \"CUSTOMERS\" file contains three extra columns ('CUSTOMER_GROUP', 'ONLINE_PURCHASE', and 'PRODUCT_GROUP'), which provide broad information about the customers depicted in the file. The original \"MAILOUT\" file included one additional column, \"RESPONSE\", which indicated whether or not each recipient became a customer of the company. For the \"TRAIN\" subset, this column has been retained, but in the \"TEST\" subset it has been removed; it is against that withheld column that your final predictions will be assessed in the Kaggle competition.\n",
    "\n",
    "Otherwise, all of the remaining columns are the same between the three data files. For more information about the columns depicted in the files, you can refer to two Excel spreadsheets provided in the workspace. [One of them](./DIAS Information Levels - Attributes 2017.xlsx) is a top-level list of attributes and descriptions, organized by informational category. [The other](./DIAS Attributes - Values 2017.xlsx) is a detailed mapping of data values for each feature in alphabetical order.\n",
    "\n",
    "In the below cell, we've provided some initial code to load in the first two datasets. Note for all of the `.csv` data files in this project that they're semicolon (`;`) delimited, so an additional argument in the [`read_csv()`](https://pandas.pydata.org/pandas-docs/stable/generated/pandas.read_csv.html) call has been included to read in the data properly. Also, considering the size of the datasets, it may take some time for them to load completely.\n",
    "\n",
    "You'll notice when the data is loaded in that a warning message will immediately pop up. Before you really start digging into the modeling and analysis, you're going to need to perform some cleaning. Take some time to browse the structure of the data and look over the informational spreadsheets to understand the data values. Make some decisions on which features to keep, which features to drop, and if any revisions need to be made on data formats. It'll be a good idea to create a function with pre-processing steps, since you'll need to clean all of the datasets before you work with them."
   ]
  },
  {
   "cell_type": "markdown",
   "metadata": {},
   "source": [
    "## Table of Contents<a class=\"anchor\" id=\"toc\"></a>\n",
    "\n",
    "* [Install Packages](#imports)\n",
    "* [Data Prep](#data)\n",
    "* [Data Exporation](#explore)\n",
    "* [Feature Reduction](#feature)\n",
    "* [Outputs](#output)"
   ]
  },
  {
   "cell_type": "markdown",
   "metadata": {},
   "source": [
    "## Install Packages <a class=\"anchor\" id=\"imports\"></a>\n",
    "[Back to toc](#toc)"
   ]
  },
  {
   "cell_type": "code",
   "execution_count": 1,
   "metadata": {},
   "outputs": [
    {
     "name": "stdout",
     "output_type": "stream",
     "text": [
      "Collecting numpy\n",
      "\u001b[?25l  Downloading https://files.pythonhosted.org/packages/45/b2/6c7545bb7a38754d63048c7696804a0d947328125d81bf12beaa692c3ae3/numpy-1.19.5-cp36-cp36m-manylinux1_x86_64.whl (13.4MB)\n",
      "\u001b[K    100% |████████████████████████████████| 13.4MB 3.2MB/s eta 0:00:01    98% |███████████████████████████████▋| 13.2MB 33.6MB/s eta 0:00:01\n",
      "\u001b[31mtensorflow 1.3.0 requires tensorflow-tensorboard<0.2.0,>=0.1.0, which is not installed.\u001b[0m\n",
      "\u001b[?25hInstalling collected packages: numpy\n",
      "  Found existing installation: numpy 1.12.1\n",
      "    Uninstalling numpy-1.12.1:\n",
      "      Successfully uninstalled numpy-1.12.1\n",
      "Successfully installed numpy-1.19.5\n",
      "Collecting pandas\n",
      "\u001b[?25l  Downloading https://files.pythonhosted.org/packages/c3/e2/00cacecafbab071c787019f00ad84ca3185952f6bb9bca9550ed83870d4d/pandas-1.1.5-cp36-cp36m-manylinux1_x86_64.whl (9.5MB)\n",
      "\u001b[K    100% |████████████████████████████████| 9.5MB 3.6MB/s eta 0:00:01\n",
      "\u001b[?25hRequirement already satisfied, skipping upgrade: numpy>=1.15.4 in /opt/conda/lib/python3.6/site-packages (from pandas) (1.19.5)\n",
      "Requirement already satisfied, skipping upgrade: pytz>=2017.2 in /opt/conda/lib/python3.6/site-packages (from pandas) (2017.3)\n",
      "Collecting python-dateutil>=2.7.3 (from pandas)\n",
      "\u001b[?25l  Downloading https://files.pythonhosted.org/packages/36/7a/87837f39d0296e723bb9b62bbb257d0355c7f6128853c78955f57342a56d/python_dateutil-2.8.2-py2.py3-none-any.whl (247kB)\n",
      "\u001b[K    100% |████████████████████████████████| 256kB 22.5MB/s ta 0:00:01\n",
      "\u001b[?25hRequirement already satisfied, skipping upgrade: six>=1.5 in /opt/conda/lib/python3.6/site-packages (from python-dateutil>=2.7.3->pandas) (1.11.0)\n",
      "Installing collected packages: python-dateutil, pandas\n",
      "  Found existing installation: python-dateutil 2.6.1\n",
      "    Uninstalling python-dateutil-2.6.1:\n",
      "      Successfully uninstalled python-dateutil-2.6.1\n",
      "  Found existing installation: pandas 0.23.3\n",
      "    Uninstalling pandas-0.23.3:\n",
      "      Successfully uninstalled pandas-0.23.3\n",
      "Successfully installed pandas-1.1.5 python-dateutil-2.8.2\n"
     ]
    }
   ],
   "source": [
    "!pip install -U numpy\n",
    "!pip install -U pandas"
   ]
  },
  {
   "cell_type": "code",
   "execution_count": 2,
   "metadata": {},
   "outputs": [],
   "source": [
    "# import libraries here; add more as necessary\n",
    "import numpy as np\n",
    "import pandas as pd\n",
    "import matplotlib\n",
    "import matplotlib.pyplot as plt\n",
    "import itertools\n",
    "import scipy\n",
    "import scipy.stats as stats\n",
    "\n",
    "# magic word for producing visualizations in notebook\n",
    "%matplotlib inline\n",
    "# Use the theme of ggplot\n",
    "plt.style.use('ggplot')\n",
    "\n",
    "pd.set_option('display.max_rows', 999)\n",
    "pd.set_option('display.max_columns', 999)"
   ]
  },
  {
   "cell_type": "code",
   "execution_count": 3,
   "metadata": {},
   "outputs": [
    {
     "name": "stdout",
     "output_type": "stream",
     "text": [
      "Python version\n",
      "3.6.3 | packaged by conda-forge | (default, Dec  9 2017, 04:28:46) \n",
      "[GCC 4.8.2 20140120 (Red Hat 4.8.2-15)]\n",
      "Version info.\n",
      "sys.version_info(major=3, minor=6, micro=3, releaselevel='final', serial=0)\n",
      "numpy\n",
      "1.19.5\n",
      "pandas\n",
      "1.1.5\n",
      "matplotlib\n",
      "2.1.0\n",
      "scipy\n",
      "1.2.1\n"
     ]
    }
   ],
   "source": [
    "# print versions\n",
    "import sys\n",
    "print(\"Python version\")\n",
    "print (sys.version)\n",
    "print(\"Version info.\")\n",
    "print (sys.version_info)\n",
    "print('numpy')\n",
    "print(np.__version__)\n",
    "print('pandas')\n",
    "print(pd.__version__)\n",
    "\n",
    "print('matplotlib')\n",
    "print(matplotlib.__version__)\n",
    "# print('itertools')\n",
    "# print(itertools.__version__)\n",
    "print('scipy')\n",
    "print(scipy.__version__)\n"
   ]
  },
  {
   "cell_type": "markdown",
   "metadata": {},
   "source": [
    "## Data prep <a class=\"anchor\" id=\"data\"></a>\n",
    "[Back to toc](#toc)\n",
    "\n",
    "1. **Read in Data Dictionary.** I created fieldnames.csv and valuenames.csv by downloading the data dictionaries, finding unique values of the attribute name and saving this as a csv file. I will drop variables that don't have a match to those fields in the data dictionaries. \n",
    "2. **Classify Columns.** <br> a. Most of the columns are categorical. I read through the data dictionary and identifed fields that contained numeric data. <br>b. At the data exploration phase I identified columns with more than 100 levels. <br> c. I found fields with a large volume of missing values. <br> d. Columns with a single level having more than 98% of the customers in.\n",
    "3. **Read data.** Read in the data with all columns being coded as *object* except 2a and 2b (above). \n",
    "4. **Clean data** <br> a. I created a list from the Values data dictionary of values that should be coded as NULL by filtering on 'unknown' and 'no transactions known' and then if there were 2 levels I split them across columns. I saved this as a csv. <br> b. Remove customers with missing KBA05 and KBA13 data. This is 30% of the data lost. \n",
    "<br> c. Remove 2c and 2d\n",
    "<br> d. Remove customers with a missing value for 1 or more column. <5% of the data lost.\n",
    "5. Drop columns missing from the Data Dictionary"
   ]
  },
  {
   "cell_type": "code",
   "execution_count": 4,
   "metadata": {},
   "outputs": [],
   "source": [
    "# Read in data dictionary fields and combine\n",
    "fieldnames = pd.read_csv('fieldnames.csv')\n",
    "list_fieldnames = list(fieldnames['Attribute'].values)\n",
    "\n",
    "valuenames = pd.read_csv('valuenames.csv')\n",
    "list_valuenames = list(valuenames['Attribute'].values)\n",
    "\n",
    "# List of fields in the data dictionaries\n",
    "dd = list(set(list_valuenames).union(set(list_fieldnames)))"
   ]
  },
  {
   "cell_type": "code",
   "execution_count": 5,
   "metadata": {},
   "outputs": [],
   "source": [
    "# Classify columns\n",
    "\n",
    "# Numeric\n",
    "list_numeric  = [\n",
    "    'ANZ_HH_TITEL'\n",
    "    ,'ANZ_PERSONEN'\n",
    "    , 'MIN_GEBAEUDEJAHR'\n",
    "    ]\n",
    "\n",
    "# greater than 100 levels - likely numeric\n",
    "list_large_lvls  = [\n",
    "    'LNR'                            \n",
    "    ,'EINGEFUEGT_AM'                    \n",
    "    ,'KBA13_ANZAHL_PKW'                 \n",
    "    ,'ANZ_HAUSHALTE_AKTIV'               \n",
    "    ,'ANZ_STATISTISCHE_HAUSHALTE'        \n",
    "    ,'GEBURTSJAHR'     \n",
    "    ]\n",
    "\n",
    "# fields with large number of missings\n",
    "list_missing  = [\n",
    "'ALTER_KIND4'                    \n",
    ",'ALTER_KIND3'                   \n",
    ",'TITEL_KZ'                       \n",
    ",'ALTER_KIND2'                  \n",
    ",'ALTER_KIND1'                  \n",
    ",'KK_KUNDENTYP'                \n",
    ",'KBA05_BAUMAX'                  \n",
    ",'AGER_TYP'                      \n",
    ",'EXTSEL992'                     \n",
    ",'ALTER_HH'                      \n",
    ",'W_KEIT_KIND_HH' \n",
    "  ]\n",
    "\n",
    "# Columns with single level with my that 98% of customers in 1 of the levels. \n",
    "## Based on clean data after removing KBA05/13, Na rows\n",
    "list_high_sing_lvl = [\n",
    "'ANZ_TITEL'\n",
    ",'D19_TELKO_ONLINE_DATUM'\n",
    ",'D19_TELKO_ONLINE_QUOTE_12'\n",
    ",'D19_VERSI_ONLINE_DATUM'\n",
    ",'D19_VERSI_ONLINE_QUOTE_12'\n",
    ",'DSL_FLAG'\n",
    ",'SOHO_KZ'\n",
    "]"
   ]
  },
  {
   "cell_type": "code",
   "execution_count": 6,
   "metadata": {},
   "outputs": [],
   "source": [
    "# Read in data types. \n",
    "\n",
    "def data_types(customers_csv, list_large_lvls, list_numeric):\n",
    "    \"\"\"\n",
    "    Load in customers data and creates a dictionary with the columns that should be coded as object. \n",
    "    \"\"\"\n",
    "    \n",
    "    all_columns = pd.read_csv(customers_csv, nrows=0 , sep=';').columns.tolist()\n",
    "\n",
    "    object_vars = list(set(all_columns) - set(list_large_lvls) - set(list_numeric))\n",
    "\n",
    "    dic_dtype = {}\n",
    "    for var in object_vars:\n",
    "        dic_dtype.update({var: 'object'})\n",
    "        \n",
    "    return dic_dtype\n",
    "\n",
    "\n",
    "# Run all\n",
    "dic_dtype = data_types('../../../../data/Term2/capstone/arvato_data/Udacity_CUSTOMERS_052018.csv', list_large_lvls\n",
    "                      , list_numeric )"
   ]
  },
  {
   "cell_type": "code",
   "execution_count": 7,
   "metadata": {},
   "outputs": [
    {
     "name": "stdout",
     "output_type": "stream",
     "text": [
      "Loading data...\n",
      "germany loaded\n",
      "customers loaded\n"
     ]
    }
   ],
   "source": [
    "# Read in data. \n",
    "\n",
    "def load_data(input_csv, dic_dtype):\n",
    "    \"\"\"\n",
    "    Load in data from filepaths provided.\n",
    "    \"\"\"\n",
    "    \n",
    "    df = pd.read_csv(input_csv, sep=';',\n",
    "                      dtype=dic_dtype\n",
    "                     )\n",
    "    \n",
    "    return df\n",
    "\n",
    "print('Loading data...')\n",
    "germany = load_data('../../../../data/Term2/capstone/arvato_data/Udacity_AZDIAS_052018.csv', dic_dtype)\n",
    "print('germany loaded')\n",
    "customers = load_data('../../../../data/Term2/capstone/arvato_data/Udacity_CUSTOMERS_052018.csv', dic_dtype)\n",
    "print('customers loaded')"
   ]
  },
  {
   "cell_type": "code",
   "execution_count": 8,
   "metadata": {},
   "outputs": [],
   "source": [
    "# Load missing data info\n",
    "\n",
    "def load_miss_data(missing_csv):\n",
    "    \"\"\"\n",
    "    Load in missing data info and outputs 2 dictionaries of the level that should be NULL.\n",
    "    \"\"\"\n",
    "    missing_values = pd.read_csv(missing_csv)\n",
    "    \n",
    "    dic_miss = dict(missing_values[['Attribute','Value']].values)\n",
    "    dic_miss2 = dict(missing_values[['Attribute','second']].dropna().values)\n",
    "    \n",
    "    return dic_miss, dic_miss2\n",
    "\n",
    "dic_miss, dic_miss2 = load_miss_data('unknown_values.csv')"
   ]
  },
  {
   "cell_type": "code",
   "execution_count": 9,
   "metadata": {},
   "outputs": [
    {
     "name": "stdout",
     "output_type": "stream",
     "text": [
      "Cleaning data...\n",
      "Shape of original (191652, 371) ... shape of clean (118961, 351)\n",
      "customers cleaned\n",
      "Shape of original (191652, 371) ... shape of clean (466724, 348)\n",
      "germany cleaned\n"
     ]
    }
   ],
   "source": [
    "# Clean data \n",
    "def clean_data(df, dropKBA05_13): \n",
    "    \n",
    "    if dropKBA05_13 == 1:\n",
    "        # Drop customers with missing KBA05 and KBA13 data\n",
    "        df['KBA05_Missing'] = df['KBA05_SEG7'].isnull()\n",
    "        df['KBA13_Missing'] = df['KBA13_FORD'].isnull()\n",
    "\n",
    "        customers_clean =  df[(df['KBA05_Missing'] == False) & (df['KBA13_Missing'] == False)].drop(['KBA05_Missing', 'KBA13_Missing'], axis = 1)\n",
    "\n",
    "    else:\n",
    "        customers_clean = df\n",
    "        \n",
    "    # Recode Missing categories as Nulls\n",
    "    for key, value in dic_miss.items():\n",
    "        try:\n",
    "            customers_clean[key]=customers_clean[key].apply(lambda x: np.nan if x==value else x)\n",
    "        except:\n",
    "            pass\n",
    "\n",
    "    for key, value in dic_miss2.items():\n",
    "        try:\n",
    "            customers_clean[key]=customers_clean[key].apply(lambda x: np.nan if x==value else x)\n",
    "        except:\n",
    "            pass\n",
    "\n",
    "    # Drop columns with high volumes of missing and single values\n",
    "    list_drop = list(set(list_high_sing_lvl).union(set(list_missing)))\n",
    "    customers_clean.drop(list_drop, axis = 1, inplace = True)\n",
    "\n",
    "    # Drop rows with missing values\n",
    "    customers_clean.dropna(inplace = True)\n",
    "\n",
    "    # Print shapes before and after cleaning\n",
    "    shape = customers.shape\n",
    "    cleanshape = customers_clean.shape\n",
    "    print(f'Shape of original {shape} ... shape of clean {cleanshape}' ) \n",
    "    \n",
    "    return customers_clean\n",
    "\n",
    "print('Cleaning data...')\n",
    "customers_clean = clean_data(customers,1)\n",
    "print('customers cleaned')\n",
    "germany_clean = clean_data(germany,1)\n",
    "print('germany cleaned')"
   ]
  },
  {
   "cell_type": "code",
   "execution_count": 10,
   "metadata": {},
   "outputs": [],
   "source": [
    "# Additional step - remove columns not in DD\n",
    "not_in_ger = list(set(customers_clean.columns.tolist()) - set(germany_clean.columns.tolist()) )\n",
    "not_in_missvals = list(set(customers_clean.columns.tolist()) - set(dic_miss.keys()) )\n",
    "not_in_dd = list(set(customers_clean.columns.tolist()) - set(dd) - set(not_in_ger) )\n",
    "\n",
    "# Drop fields not in data dictionary\n",
    "germany_clean.drop(not_in_dd, axis = 1, inplace = True)\n",
    "customers_clean.drop(not_in_dd, axis = 1, inplace = True)"
   ]
  },
  {
   "cell_type": "code",
   "execution_count": 11,
   "metadata": {},
   "outputs": [
    {
     "data": {
      "text/plain": [
       "(118961, 271)"
      ]
     },
     "execution_count": 11,
     "metadata": {},
     "output_type": "execute_result"
    }
   ],
   "source": [
    "customers_clean.shape"
   ]
  },
  {
   "cell_type": "code",
   "execution_count": 12,
   "metadata": {},
   "outputs": [
    {
     "data": {
      "text/plain": [
       "(466724, 268)"
      ]
     },
     "execution_count": 12,
     "metadata": {},
     "output_type": "execute_result"
    }
   ],
   "source": [
    "germany_clean.shape"
   ]
  },
  {
   "cell_type": "markdown",
   "metadata": {},
   "source": [
    "## Data Exploration <a class=\"anchor\" id=\"explore\"></a>\n",
    "[Back to toc](#toc)"
   ]
  },
  {
   "cell_type": "markdown",
   "metadata": {},
   "source": [
    "### Group variables"
   ]
  },
  {
   "cell_type": "code",
   "execution_count": 18,
   "metadata": {},
   "outputs": [],
   "source": [
    "all_columns_clean = customers_clean.columns.tolist()\n",
    "\n",
    "# How many levels\n",
    "counts= customers_clean.nunique(dropna=False)\n",
    "counts.sort_values(ascending=True, inplace=True)\n",
    "\n",
    "# Single value - none\n",
    "single_val_col = counts[counts == 1]\n",
    "l_single_val_col = list(single_val_col.index.values)\n",
    "\n",
    "# binary - 4\n",
    "doube_val_col = counts[counts == 2]\n",
    "l_binary_val_col = list(doube_val_col.index.values)"
   ]
  },
  {
   "cell_type": "code",
   "execution_count": 19,
   "metadata": {},
   "outputs": [],
   "source": [
    "# Values that have a single value_count > 98% of the rows\n",
    "# Commenting out as these columns have been hard-coded in the Data Cleaning stage and removed.\n",
    "\n",
    "# for col in all_columns_clean:\n",
    "#     test = customers_clean[col].value_counts().rename_axis('unique_values').reset_index(name='counts')\n",
    "#     test2= test[test['counts']/customers_clean.shape[0]>0.98]\n",
    "\n",
    "#     if test2.shape[0] > 0:\n",
    "#         print(col)"
   ]
  },
  {
   "cell_type": "markdown",
   "metadata": {},
   "source": [
    "### Visualise\n",
    "\n",
    "These graphs haven't been tidied as they won't be reported anywhere and just here as an option to have a look at some columns."
   ]
  },
  {
   "cell_type": "code",
   "execution_count": 20,
   "metadata": {},
   "outputs": [],
   "source": [
    "# Histogram of features - takes too long to print them all so filter on this list first \n",
    "look_cat_cols= ['D19_BANKEN_ONLINE_QUOTE_12'] "
   ]
  },
  {
   "cell_type": "code",
   "execution_count": 21,
   "metadata": {},
   "outputs": [
    {
     "data": {
      "image/png": "[encoded data removed]",
      "text/plain": [
       "<matplotlib.figure.Figure at 0x7fda980127f0>"
      ]
     },
     "metadata": {
      "needs_background": "light"
     },
     "output_type": "display_data"
    }
   ],
   "source": [
    "# Graphs - customers\n",
    "for col in look_cat_cols:\n",
    "    vals = customers_clean[col].value_counts(dropna=False)\n",
    "    (vals/customers_clean.shape[0]).plot(kind=\"bar\")\n",
    "    plt.title(col)\n",
    "    plt.show()"
   ]
  },
  {
   "cell_type": "code",
   "execution_count": 22,
   "metadata": {},
   "outputs": [
    {
     "data": {
      "image/png": "[encoded data removed]",
      "text/plain": [
       "<matplotlib.figure.Figure at 0x7fda8da3e630>"
      ]
     },
     "metadata": {
      "needs_background": "light"
     },
     "output_type": "display_data"
    }
   ],
   "source": [
    "# Graphs - Germany\n",
    "for col in look_cat_cols:\n",
    "    vals = germany_clean[col].value_counts(dropna=False)\n",
    "    (vals/germany_clean.shape[0]).plot(kind=\"bar\")\n",
    "    plt.title(col)\n",
    "    plt.show()"
   ]
  },
  {
   "cell_type": "code",
   "execution_count": 23,
   "metadata": {},
   "outputs": [
    {
     "data": {
      "image/png": "[encoded data removed]",
      "text/plain": [
       "<matplotlib.figure.Figure at 0x7fda9068d978>"
      ]
     },
     "metadata": {
      "needs_background": "light"
     },
     "output_type": "display_data"
    }
   ],
   "source": [
    "# histograms of numeric fields\n",
    "customers_clean[list_numeric].hist(bins=30);"
   ]
  },
  {
   "cell_type": "markdown",
   "metadata": {},
   "source": [
    "## Feature Reduction <a class=\"anchor\" id=\"feature\"></a>\n",
    "[Back to toc](#toc)\n",
    "\n",
    "For simplicity, I have removed additional columns namely: numeric and variables with many levels that would seem more continuous in nature or would introduce too much cardinality once encoded. I have also removed 3 variables that have levels with <5 customers as my statistical test wouldn't be appropriate for these.\n",
    "\n",
    "<br> This section runs a chi-squared test on all the combinations of columns and finds Cramer's V as a measure of how correlated they are to one another. Again for simplicity, it drops one of the correlated variables at random but I would suggest coming back to this and also considering feature importance.\n",
    "Refs: \n",
    "<br> https://www.statology.org/interpret-cramers-v/\n",
    "<br> https://www.kaggle.com/code/phaethonprime/eda-and-logistic-regression/notebook\n",
    "<br> <br> I have picked CV cut-offs mentioned on the page above."
   ]
  },
  {
   "cell_type": "code",
   "execution_count": 24,
   "metadata": {},
   "outputs": [],
   "source": [
    "cutoff_1 = 0.50\n",
    "cutoff_2 = 0.35\n",
    "cutoff_3 = 0.29\n",
    "cutoff_4 = 0.25\n",
    "cutoff_5 = 0.22 # conservative all dof>5 will use this one. i.e. will keep more columns"
   ]
  },
  {
   "cell_type": "code",
   "execution_count": 25,
   "metadata": {},
   "outputs": [],
   "source": [
    "# After running Chi-squared test and printing dof these categorical variables have many levels\n",
    "many_levels = ['GFK_URLAUBERTYP', 'LP_LEBENSPHASE_GROB', 'PRAEGENDE_JUGENDJAHRE', 'MIN_GEBAEUDEJAHR', 'LP_LEBENSPHASE_FEIN', 'CAMEO_DEU_2015' ]\n",
    "# Chi-squared test gives warning as low volumes (<5 customers) in some of the levels\n",
    "not_tested = ['WOHNLAGE', 'D19_BANKEN_ONLINE_QUOTE_12', 'KBA05_GBZ']"
   ]
  },
  {
   "cell_type": "code",
   "execution_count": 26,
   "metadata": {},
   "outputs": [],
   "source": [
    "# At this stage for simplicity\n",
    "# Drop all the numeric, low volumes in some levels, too many levels for a categorical variable\n",
    "\n",
    "cus_chi_cols = list(set(all_columns_clean) - set(list_large_lvls) - set(list_numeric)  \n",
    "                       - set(not_tested) -set(many_levels) \n",
    "                      )\n",
    "ger_chi_cols = list(set(all_columns_clean) - set(list_large_lvls) - set(list_numeric)  \n",
    "                       - set(not_tested) -set(many_levels) \n",
    "                      - set(not_in_ger)\n",
    "                      )\n",
    "\n",
    "customers_dropv = customers_clean[cus_chi_cols]\n",
    "germany_dropv = germany_clean[ger_chi_cols]"
   ]
  },
  {
   "cell_type": "code",
   "execution_count": 27,
   "metadata": {},
   "outputs": [],
   "source": [
    "# https://www.kaggle.com/code/phaethonprime/eda-and-logistic-regression/notebook\n",
    "def cramers_corrected_stat(conting):\n",
    "    \"\"\" calculate Cramers V statistic for categorical-categorical association.\n",
    "        uses correction from Bergsma and Wicher, \n",
    "        Journal of the Korean Statistical Society 42 (2013): 323-328\n",
    "    \"\"\"\n",
    "    chi2 = stats.chi2_contingency(conting)[0]\n",
    "    n = conting.sum().sum()\n",
    "    phi2 = chi2/n\n",
    "    r,k = conting.shape\n",
    "    phi2corr = max(0, phi2 - ((k-1)*(r-1))/(n-1))    \n",
    "    rcorr = r - ((r-1)**2)/(n-1)\n",
    "    kcorr = k - ((k-1)**2)/(n-1)\n",
    "    return np.sqrt(phi2corr / min( (kcorr-1), (rcorr-1))) , min((kcorr-1), (rcorr-1))"
   ]
  },
  {
   "cell_type": "code",
   "execution_count": 28,
   "metadata": {},
   "outputs": [],
   "source": [
    "corr_output = pd.DataFrame(columns = ['Col1', 'Col2', 'CramerV', 'dof'])\n",
    "\n",
    "for col1, col2 in itertools.combinations(cus_chi_cols, 2):\n",
    "\n",
    "    cramer, dof = cramers_corrected_stat(pd.crosstab(customers_dropv[col1], customers_dropv[col2]))\n",
    "\n",
    "    corr_output = corr_output.append({'Col1': col1,\n",
    "                                      'Col2': col2,\n",
    "                                      'CramerV': cramer,\n",
    "                                      'dof': dof\n",
    "                                          }, ignore_index=True)"
   ]
  },
  {
   "cell_type": "code",
   "execution_count": 29,
   "metadata": {},
   "outputs": [],
   "source": [
    "corrhigh = corr_output.loc[  ((corr_output.CramerV > cutoff_1) & (corr_output['dof'].between(0, 1, inclusive = 'right')))\n",
    "                           | ((corr_output.CramerV > cutoff_2) & (corr_output['dof'].between(1, 2, inclusive = 'right')))\n",
    "                           | ((corr_output.CramerV > cutoff_3) & (corr_output['dof'].between(2, 3, inclusive = 'right')))\n",
    "                           | ((corr_output.CramerV > cutoff_4) & (corr_output['dof'].between(3, 4, inclusive = 'right')))\n",
    "                           | ((corr_output.CramerV > cutoff_5) & (corr_output['dof']> 4 ))\n",
    "                          ]"
   ]
  },
  {
   "cell_type": "code",
   "execution_count": 30,
   "metadata": {},
   "outputs": [],
   "source": [
    "# Sort so that results can reproduced\n",
    "corrhigh_sorted = corrhigh.sort_values(by=['Col1', 'Col2'] )"
   ]
  },
  {
   "cell_type": "code",
   "execution_count": 31,
   "metadata": {},
   "outputs": [],
   "source": [
    "# Example\n",
    "# Consider these pairs of correlated pairs:\n",
    "\n",
    "# a b\n",
    "# b c - skipped by if statement\n",
    "# d e \n",
    "# a c - a will be deduped in the keep list\n",
    "# f b - b will be deduped in the drop list\n",
    "\n",
    "# Put highly correlated columns into lists\n",
    "col1 = list(corrhigh_sorted.Col1)\n",
    "col2 = list(corrhigh_sorted.Col2)\n",
    "\n",
    "# Set up empty lists\n",
    "keep_corr = []\n",
    "drop_corr = []\n",
    "\n",
    "# Loop\n",
    "for i in range(1, len(col1)):\n",
    "\n",
    "    if col1[i] not in drop_corr:\n",
    "        keep_corr.append(col1[i])\n",
    "        #dedup\n",
    "        keep_corr = list(set(keep_corr))\n",
    "\n",
    "        drop_corr.append(col2[i])\n",
    "        #dedup\n",
    "        drop_corr = list(set(drop_corr))\n"
   ]
  },
  {
   "cell_type": "code",
   "execution_count": 32,
   "metadata": {},
   "outputs": [
    {
     "data": {
      "text/plain": [
       "193"
      ]
     },
     "execution_count": 32,
     "metadata": {},
     "output_type": "execute_result"
    }
   ],
   "source": [
    "# Keep the fields that are in Customers only\n",
    "drop_corr.remove('PRODUCT_GROUP')\n",
    "len(drop_corr)"
   ]
  },
  {
   "cell_type": "code",
   "execution_count": 33,
   "metadata": {},
   "outputs": [],
   "source": [
    "# Drop fields not in data dictionary\n",
    "\n",
    "customers_FR = customers_dropv.drop(drop_corr, axis = 1)\n",
    "germany_FR   = germany_dropv.drop(drop_corr, axis = 1)\n",
    "\n",
    "all_columns_FR = list(customers_FR.columns)"
   ]
  },
  {
   "cell_type": "code",
   "execution_count": 34,
   "metadata": {},
   "outputs": [
    {
     "data": {
      "text/plain": [
       "(118961, 64)"
      ]
     },
     "execution_count": 34,
     "metadata": {},
     "output_type": "execute_result"
    }
   ],
   "source": [
    "customers_FR.shape"
   ]
  },
  {
   "cell_type": "code",
   "execution_count": 35,
   "metadata": {},
   "outputs": [
    {
     "data": {
      "text/plain": [
       "(466724, 61)"
      ]
     },
     "execution_count": 35,
     "metadata": {},
     "output_type": "execute_result"
    }
   ],
   "source": [
    "germany_FR.shape"
   ]
  },
  {
   "cell_type": "markdown",
   "metadata": {},
   "source": [
    "## Outputs <a class=\"anchor\" id=\"output\"></a>\n",
    "[Back to toc](#toc)"
   ]
  },
  {
   "cell_type": "code",
   "execution_count": 36,
   "metadata": {},
   "outputs": [],
   "source": [
    "# split Germany into 2 parts\n",
    "germany1 = germany_FR.head(266724)\n",
    "germany2 = germany_FR.tail(200000)"
   ]
  },
  {
   "cell_type": "code",
   "execution_count": 37,
   "metadata": {},
   "outputs": [],
   "source": [
    "# Create a sample of Germany with the same number of rows as Customer\n",
    "Germany_samp = germany_FR.sample(n = customers_FR.shape[0], random_state = 12345).copy()"
   ]
  },
  {
   "cell_type": "code",
   "execution_count": 38,
   "metadata": {},
   "outputs": [
    {
     "data": {
      "text/plain": [
       "(118961, 61)"
      ]
     },
     "execution_count": 38,
     "metadata": {},
     "output_type": "execute_result"
    }
   ],
   "source": [
    "Germany_samp.shape"
   ]
  },
  {
   "cell_type": "code",
   "execution_count": 39,
   "metadata": {},
   "outputs": [],
   "source": [
    "# output to latest to csv - not output because old versions are used for results\n",
    "\n",
    "# customers_FR.to_csv(\"customers_FR_new.csv\", index=False)\n",
    "# germany1.to_csv(\"germany_FR_new1.csv\" , index=False)\n",
    "# germany2.to_csv(\"germany_FR_new2.csv\" , index=False)\n",
    "# Germany_samp.to_csv(\"Germany_samp_new.csv\" , index=False)"
   ]
  },
  {
   "cell_type": "code",
   "execution_count": 7,
   "metadata": {},
   "outputs": [],
   "source": [
    "# Read in and Output Train and Test so these can be uploaded to my server at work.\n",
    "mailout_test = pd.read_csv('../../../../data/Term2/capstone/arvato_data/Udacity_MAILOUT_052018_TEST.csv', sep=';', dtype=dic_dtype)\n",
    "mailout_train = pd.read_csv('../../../../data/Term2/capstone/arvato_data/Udacity_MAILOUT_052018_TRAIN.csv', sep=';',  dtype=dic_dtype)"
   ]
  },
  {
   "cell_type": "code",
   "execution_count": 8,
   "metadata": {},
   "outputs": [],
   "source": [
    "# split into 4 parts\n",
    "train1 = mailout_train.head(22962)\n",
    "train2 = mailout_train.tail(20000)\n",
    "\n",
    "test1 = mailout_test.head(22833)\n",
    "test2 = mailout_test.tail(20000)"
   ]
  },
  {
   "cell_type": "code",
   "execution_count": 9,
   "metadata": {},
   "outputs": [],
   "source": [
    "# Output all 4 parts to csv\n",
    "train1.to_csv(\"train1.csv\", index = False)\n",
    "train2.to_csv(\"train2.csv\", index = False)\n",
    "test1.to_csv(\"test1.csv\", index = False)\n",
    "test2.to_csv(\"test2.csv\", index = False)"
   ]
  },
  {
   "cell_type": "code",
   "execution_count": 43,
   "metadata": {},
   "outputs": [
    {
     "data": {
      "text/plain": [
       "0    42430\n",
       "1      532\n",
       "Name: RESPONSE, dtype: int64"
      ]
     },
     "execution_count": 43,
     "metadata": {},
     "output_type": "execute_result"
    }
   ],
   "source": [
    "# for checks \n",
    "mailout_train.RESPONSE.value_counts()"
   ]
  },
  {
   "cell_type": "code",
   "execution_count": 10,
   "metadata": {},
   "outputs": [
    {
     "data": {
      "text/plain": [
       "(42833, 366)"
      ]
     },
     "execution_count": 10,
     "metadata": {},
     "output_type": "execute_result"
    }
   ],
   "source": [
    "# for checks \n",
    "mailout_test.shape"
   ]
  },
  {
   "cell_type": "markdown",
   "metadata": {},
   "source": [
    "### This next section replicates the current version of customers_FR, germany_FR and Germany_samp. Previous versions of the code did not produce the same results each time from the Feature Reduction. Therefore if you run this then it will give the same data used in the Unsupervised learning notebook. "
   ]
  },
  {
   "cell_type": "code",
   "execution_count": 47,
   "metadata": {},
   "outputs": [],
   "source": [
    "cus_fr_cols = ['KBA13_VORB_0',\n",
    " 'KBA05_HERST5',\n",
    " 'KBA13_VORB_2',\n",
    " 'KBA13_HALTER_55',\n",
    " 'D19_VERSAND_ONLINE_QUOTE_12',\n",
    " 'KBA13_CCM_1800',\n",
    " 'KBA13_HERST_SONST',\n",
    " 'LP_FAMILIE_GROB',\n",
    " 'KBA13_VW',\n",
    " 'KBA13_NISSAN',\n",
    " 'CJT_GESAMTTYP',\n",
    " 'D19_TELKO_DATUM',\n",
    " 'KBA13_KW_0_60',\n",
    " 'KBA13_MAZDA',\n",
    " 'KBA05_ANTG3',\n",
    " 'KBA13_HERST_EUROPA',\n",
    " 'FINANZ_VORSORGER',\n",
    " 'PRODUCT_GROUP',\n",
    " 'KBA13_KMH_251',\n",
    " 'KBA13_BJ_2004',\n",
    " 'KBA13_SEG_KLEINST',\n",
    " 'KBA13_CCM_3000',\n",
    " 'KBA13_BMW',\n",
    " 'KBA13_SITZE_5',\n",
    " 'KBA13_KW_80',\n",
    " 'D19_VERSI_OFFLINE_DATUM',\n",
    " 'KBA13_SEG_OBERKLASSE',\n",
    " 'KBA13_SEG_UTILITIES',\n",
    " 'KBA13_SEG_WOHNMOBILE',\n",
    " 'SEMIO_VERT',\n",
    " 'KBA13_SEG_GELAENDEWAGEN',\n",
    " 'KBA13_KMH_110',\n",
    " 'NATIONALITAET_KZ',\n",
    " 'KBA13_CCM_1500',\n",
    " 'KBA13_TOYOTA',\n",
    " 'KBA05_ANTG4',\n",
    " 'HH_EINKOMMEN_SCORE',\n",
    " 'KBA13_KRSSEG_VAN',\n",
    " 'KBA13_KW_90',\n",
    " 'KBA13_HALTER_20',\n",
    " 'KBA13_KW_110',\n",
    " 'KBA13_KMH_140',\n",
    " 'KBA13_FORD',\n",
    " 'PLZ8_GBZ',\n",
    " 'KBA13_CCM_2500',\n",
    " 'WOHNDAUER_2008',\n",
    " 'D19_BANKEN_ONLINE_DATUM',\n",
    " 'KBA05_MODTEMP',\n",
    " 'ONLINE_PURCHASE',\n",
    " 'CUSTOMER_GROUP',\n",
    " 'ARBEIT',\n",
    " 'KBA13_HALTER_45',\n",
    " 'PLZ8_ANTG2',\n",
    " 'KBA13_FAB_ASIEN',\n",
    " 'RETOURTYP_BK_S',\n",
    " 'KBA13_SEG_MITTELKLASSE',\n",
    " 'KBA13_KW_70',\n",
    " 'REGIOTYP',\n",
    " 'KBA13_HALTER_40',\n",
    " 'KONSUMNAEHE',\n",
    " 'KBA13_KRSAQUOT',\n",
    " 'GEBAEUDETYP',\n",
    " 'KBA13_OPEL',\n",
    " 'D19_VERSI_ANZ_12',\n",
    " 'KBA13_AUDI',\n",
    " 'KBA13_HALTER_65']"
   ]
  },
  {
   "cell_type": "code",
   "execution_count": 48,
   "metadata": {},
   "outputs": [],
   "source": [
    "germ_fr_cols = ['KBA13_VORB_0',\n",
    " 'KBA05_HERST5',\n",
    " 'KBA13_VORB_2',\n",
    " 'KBA13_HALTER_55',\n",
    " 'D19_VERSAND_ONLINE_QUOTE_12',\n",
    " 'KBA13_CCM_1800',\n",
    " 'KBA13_HERST_SONST',\n",
    " 'LP_FAMILIE_GROB',\n",
    " 'KBA13_VW',\n",
    " 'KBA13_NISSAN',\n",
    " 'CJT_GESAMTTYP',\n",
    " 'D19_TELKO_DATUM',\n",
    " 'KBA13_KW_0_60',\n",
    " 'KBA13_MAZDA',\n",
    " 'KBA05_ANTG3',\n",
    " 'KBA13_HERST_EUROPA',\n",
    " 'FINANZ_VORSORGER',\n",
    " 'KBA13_KMH_251',\n",
    " 'KBA13_BJ_2004',\n",
    " 'KBA13_SEG_KLEINST',\n",
    " 'KBA13_CCM_3000',\n",
    " 'KBA13_BMW',\n",
    " 'KBA13_SITZE_5',\n",
    " 'KBA13_KW_80',\n",
    " 'D19_VERSI_OFFLINE_DATUM',\n",
    " 'KBA13_SEG_OBERKLASSE',\n",
    " 'KBA13_SEG_UTILITIES',\n",
    " 'KBA13_SEG_WOHNMOBILE',\n",
    " 'SEMIO_VERT',\n",
    " 'KBA13_SEG_GELAENDEWAGEN',\n",
    " 'KBA13_KMH_110',\n",
    " 'NATIONALITAET_KZ',\n",
    " 'KBA13_CCM_1500',\n",
    " 'KBA13_TOYOTA',\n",
    " 'KBA05_ANTG4',\n",
    " 'HH_EINKOMMEN_SCORE',\n",
    " 'KBA13_KRSSEG_VAN',\n",
    " 'KBA13_KW_90',\n",
    " 'KBA13_HALTER_20',\n",
    " 'KBA13_KW_110',\n",
    " 'KBA13_KMH_140',\n",
    " 'KBA13_FORD',\n",
    " 'PLZ8_GBZ',\n",
    " 'KBA13_CCM_2500',\n",
    " 'WOHNDAUER_2008',\n",
    " 'D19_BANKEN_ONLINE_DATUM',\n",
    " 'KBA05_MODTEMP',\n",
    " 'ARBEIT',\n",
    " 'KBA13_HALTER_45',\n",
    " 'PLZ8_ANTG2',\n",
    " 'KBA13_FAB_ASIEN',\n",
    " 'RETOURTYP_BK_S',\n",
    " 'KBA13_SEG_MITTELKLASSE',\n",
    " 'KBA13_KW_70',\n",
    " 'REGIOTYP',\n",
    " 'KBA13_HALTER_40',\n",
    " 'KONSUMNAEHE',\n",
    " 'KBA13_KRSAQUOT',\n",
    " 'GEBAEUDETYP',\n",
    " 'KBA13_OPEL',\n",
    " 'D19_VERSI_ANZ_12',\n",
    " 'KBA13_AUDI',\n",
    " 'KBA13_HALTER_65']"
   ]
  },
  {
   "cell_type": "code",
   "execution_count": 49,
   "metadata": {},
   "outputs": [],
   "source": [
    "customers_FR_old = customers_clean[cus_fr_cols]\n",
    "germany_FR_old = germany_clean[germ_fr_cols]\n",
    "Germany_samp_old = germany_FR_old.sample(n = customers_FR_old.shape[0], random_state = 12345).copy()\n",
    "\n",
    "# split Germany into 2 parts\n",
    "germany1_old = germany_FR_old.head(266724)\n",
    "germany2_old = germany_FR_old.tail(200000)"
   ]
  },
  {
   "cell_type": "code",
   "execution_count": 50,
   "metadata": {},
   "outputs": [],
   "source": [
    "# output to csv\n",
    "customers_FR_old.to_csv(\"customers_FR.csv\", index=False)\n",
    "germany1_old.to_csv(\"germany_FR1.csv\" , index=False)\n",
    "germany2_old.to_csv(\"germany_FR2.csv\" , index=False)\n",
    "Germany_samp_old.to_csv(\"Germany_samp.csv\" , index=False)"
   ]
  }
 ],
 "metadata": {
  "kernelspec": {
   "display_name": "Python 3",
   "language": "python",
   "name": "python3"
  },
  "language_info": {
   "codemirror_mode": {
    "name": "ipython",
    "version": 3
   },
   "file_extension": ".py",
   "mimetype": "text/x-python",
   "name": "python",
   "nbconvert_exporter": "python",
   "pygments_lexer": "ipython3",
   "version": "3.6.3"
  }
 },
 "nbformat": 4,
 "nbformat_minor": 2
}
